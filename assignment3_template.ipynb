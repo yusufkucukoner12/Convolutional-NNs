{
 "cells": [
  {
   "cell_type": "markdown",
   "metadata": {
    "id": "HEPifRWi8RB0"
   },
   "source": [
    "## BBM 409 - Programming Assignment 3\n",
    "\n",
    "* You can add as many cells as you want in-between each question.\n",
    "* Please add comments to your code to explain your work.  \n",
    "* Please add Markdown cells to answer the (non-coding) questions in the homework text. You can, however, refer to the outputs of code cells without adding them as images to the Markdown cell unless you are requested to do otherwise.\n",
    "* Please be careful about the order of runs of cells. Doing the homework, it is likely that you will be running the cells in different orders, however, they will be evaluated in the order they appear. Hence, please try running the cells in this order before submission to make sure they work.    \n",
    "* Please refer to the homework text for any implementation detail. Though you are somewhat expected to abide by the comments in the below cells, they are mainly just provided for guidance. That is, as long as you are not completely off this structure and your work pattern is understandable and traceable, it is fine. For instance, you do not have to implement a particular function within a cell just because the comment directs you to do so.\n",
    "* This document is also your report. Show your work."
   ]
  },
  {
   "cell_type": "markdown",
   "metadata": {
    "id": "fRABL12L8RB4"
   },
   "source": [
    "###  Yusuf Küçüköner 2210356092"
   ]
  },
  {
   "cell_type": "markdown",
   "metadata": {
    "id": "Qb4QIkS68RB4"
   },
   "source": [
    "## 1. Implementing a CNN from Scratch (40 points)"
   ]
  },
  {
   "cell_type": "markdown",
   "metadata": {
    "id": "Sq8IboH58RB4"
   },
   "source": [
    "### 1.1. Introduction\n",
    "* Brief overview of the task.\n",
    "* Answer the questions like, What are the main components of a CNN architecture?, Why we use this in image classification?, etc.\n",
    "* Description of the dataset used for classification."
   ]
  },
  {
   "cell_type": "markdown",
   "metadata": {},
   "source": [
    "### **Task Overview**\n",
    "The task is to implement a Convolutional Neural Network (CNN) from scratch using PyTorch libraries. The goal is to classify images of 10 animal categories.\n",
    "\n",
    "\n",
    "### **Main Components of CNN**\n",
    "1. **Convolutional Layer**: Extracts features using filters (kernels).\n",
    "2. **Activation Function (ReLU)**: Introduces non-linearity for learning complex patterns.\n",
    "3. **Pooling Layer**: Reduces dimensions, retaining significant features.\n",
    "4. **Fully Connected Layer**: Maps features to class probabilities.\n",
    "5. **Output Layer**: Uses softmax to output class probabilities.\n",
    "\n",
    "\n",
    "### **Why CNN for Image Classification?**\n",
    "- Efficient in learning spatial hierarchies of features.\n",
    "- Reduces parameters compared to traditional neural networks.\n",
    "- Handles images effectively with shared weights.\n",
    "\n",
    "\n",
    "### **Dataset Description**\n",
    "- Consists of images from 10 animal classes:\n",
    "  `Cane, Cavallo, Elefante, Farfalla, Gallina, Gatto, Mucca, Pecora, Ragno, Scoiattolo`.\n"
   ]
  },
  {
   "cell_type": "markdown",
   "metadata": {
    "id": "9-LA2-Ww8RB6"
   },
   "source": [
    "### 1.2. Data Loading and Preprocessing (3 points)"
   ]
  },
  {
   "cell_type": "code",
   "execution_count": null,
   "metadata": {
    "id": "CzXEXAD68RB6"
   },
   "outputs": [],
   "source": [
    "## Import necessary libraries\n",
    "\n",
    "import torch\n",
    "import torch.nn as nn\n",
    "import torch.optim as optim\n",
    "import torch.nn.functional as F\n",
    "from torch.utils.data import DataLoader\n",
    "from torchvision import transforms, datasets\n",
    "import matplotlib.pyplot as plt\n",
    "import torchvision.models as models\n",
    "import seaborn as sns\n",
    "import numpy as np\n",
    "from sklearn.metrics import classification_report, confusion_matrix\n",
    "\n"
   ]
  },
  {
   "cell_type": "code",
   "execution_count": null,
   "metadata": {
    "id": "mDRlIFmu8RB7"
   },
   "outputs": [
    {
     "name": "stdout",
     "output_type": "stream",
     "text": [
      "Total images: 4500, Classes: ['cane', 'cavallo', 'elefante', 'farfalla', 'gallina', 'gatto', 'mucca', 'pecora', 'ragno', 'scoiattolo']\n",
      "torch.Size([3, 256, 256])\n"
     ]
    }
   ],
   "source": [
    "## Load the dataset using PyTorch's data loading utilities\n",
    "## Apply necessary preprocessing such as resizing and normalization\n",
    "## Divide the dataset into training, validation, and testing subsets\n",
    "\n",
    "transform = transforms.Compose([\n",
    "    transforms.Resize((256, 256)),  \n",
    "    transforms.ToTensor(),          \n",
    "    transforms.Normalize(mean=[0.5, 0.5, 0.5], std=[0.5, 0.5, 0.5])  \n",
    "])\n",
    "\n",
    "# Load the entire dataset\n",
    "dataset = datasets.ImageFolder(root='./pa3_subset_animal', transform=transform)\n",
    "print(f\"Total images: {len(dataset)}, Classes: {dataset.classes}\")\n",
    "\n",
    "print(dataset[0][0].shape) # shape is 3x256x256\n",
    "\n",
    "# Split the dataset into training, validation, and testing subsets\n",
    "train_set, val_set, test_set = torch.utils.data.random_split(dataset, [3000, 750, 750])\n"
   ]
  },
  {
   "cell_type": "markdown",
   "metadata": {
    "id": "O6yQkfFD8RB8"
   },
   "source": [
    "### 1.3. Define your CNN architecture (7 points)\n",
    "* Explain the reason behind your architecture.\n",
    "* Explain your choice of activation functions."
   ]
  },
  {
   "cell_type": "markdown",
   "metadata": {},
   "source": [
    "### CNN Architecture Explanation\n",
    "\n",
    "### **Reason Behind the Architecture**\n",
    "- **Convolutional Layers**: Capture features progressively with increasing filters (16, 32, 64, 128).\n",
    "- **Pooling Layers**: Reduce spatial dimensions, prevent overfitting, and improve efficiency.\n",
    "- **Fully Connected Layers**: Map features to class probabilities; `fc1` has 1024 neurons, `fc2` outputs 10 classes.\n",
    "- **Padding**: Preserves spatial dimensions for easier layer output calculations.\n",
    "\n",
    "\n",
    "### **Choice of Activation Functions**\n",
    "- **ReLU**:\n",
    "  - Adds non-linearity to learn complex patterns.\n",
    "  - Efficient, prevents vanishing gradients, and improves training stability.\n"
   ]
  },
  {
   "cell_type": "code",
   "execution_count": 9,
   "metadata": {
    "id": "jYEoFWPJoZ-Y"
   },
   "outputs": [],
   "source": [
    "## Design a CNN architecture with at least 3 and at most 6 convolutional layers\n",
    "## Add activation functions (e.g., ReLU) after each convolutional layer\n",
    "## Intersperse pooling layers (e.g., max pooling) to reduce spatial dimensions\n",
    "## Add a fully connected layer at the end to map features to output classes\n",
    "\n",
    "class CustomCNN(nn.Module):\n",
    "    def __init__(self):\n",
    "        super(CustomCNN, self).__init__()\n",
    "        self.conv1 = nn.Conv2d(3, 16, kernel_size=3, padding=1)  # Output: 16x32x32\n",
    "        self.conv2 = nn.Conv2d(16, 32, kernel_size=3, padding=1) # Output: 32x16x16\n",
    "        self.conv3 = nn.Conv2d(32, 64, kernel_size=3, padding=1) # Output: 64x8x8\n",
    "        self.conv4 = nn.Conv2d(64, 128, kernel_size=3, padding=1) # Output: 128x4x4\n",
    "        self.pool = nn.MaxPool2d(2, 2)  # Reduces dimensions by half\n",
    "        self.fc1 = nn.Linear(128 * 16 * 16, 1024)  # Update input size based on conv4 output\n",
    "        self.fc2 = nn.Linear(1024, 10)\n",
    "\n",
    "    def forward(self, x):\n",
    "        x = self.pool(F.relu(self.conv1(x)))  # Conv1 -> Pool\n",
    "        x = self.pool(F.relu(self.conv2(x)))  # Conv2 -> Pool\n",
    "        x = self.pool(F.relu(self.conv3(x)))  # Conv3 -> Pool\n",
    "        x = self.pool(F.relu(self.conv4(x)))  # Conv4 -> Pool\n",
    "        x = x.view(-1, 128 * 16 * 16)  # Flatten for fully connected layers\n",
    "        x = F.relu(self.fc1(x))  # Fully Connected 1\n",
    "        x = self.fc2(x)          # Fully Connected 2 (Output)\n",
    "        return x\n"
   ]
  },
  {
   "cell_type": "markdown",
   "metadata": {
    "id": "23njcboArttc"
   },
   "source": [
    "### 1.4 Prepare the model for training (3 points)\n",
    "* Explain your choice of loss functions and optimization algorithms."
   ]
  },
  {
   "cell_type": "markdown",
   "metadata": {},
   "source": [
    "### Loss Function and Optimization Algorithm\n",
    "\n",
    "### **Loss Function: Cross-Entropy Loss**\n",
    "- **Reason**: \n",
    "  - Suitable for multi-class classification as it measures the difference between predicted probabilities and true labels.\n",
    "  - Combines `Softmax` and Negative Log-Likelihood for smooth gradient flow and penalizes incorrect predictions effectively.\n",
    "\n",
    "\n",
    "### **Optimization Algorithm: Cross-Validation Approach**\n",
    "- **Reason**:\n",
    "  - Cross-validation ensures robust evaluation of the model by splitting the dataset into training and validation sets.\n",
    "  - Helps in selecting the best hyperparameters (e.g., learning rate, optimizer type) to prevent overfitting and improve generalization.\n"
   ]
  },
  {
   "cell_type": "code",
   "execution_count": 10,
   "metadata": {
    "id": "5Z7dmNGprxDo"
   },
   "outputs": [],
   "source": [
    "## Define appropriate loss function for multi-class classification (e.g., cross-entropy loss)\n",
    "criterion = nn.CrossEntropyLoss()\n"
   ]
  },
  {
   "cell_type": "code",
   "execution_count": null,
   "metadata": {
    "id": "dDG_al2zr76F"
   },
   "outputs": [],
   "source": [
    "## Choose an optimizer (SGD or Adam) and set its parameters (e.g., learning rate)\n",
    "model = CustomCNN()\n",
    "train_loader = torch.utils.data.DataLoader(train_set, batch_size=64, shuffle=True)\n",
    "val_loader = torch.utils.data.DataLoader(val_set, batch_size=64, shuffle=False)\n",
    "test_loader = torch.utils.data.DataLoader(test_set, batch_size=64, shuffle=False)"
   ]
  },
  {
   "cell_type": "markdown",
   "metadata": {
    "id": "3aW87Td98RB9"
   },
   "source": [
    "### 1.5 Train and Validate the CNN model (9 points)"
   ]
  },
  {
   "cell_type": "code",
   "execution_count": null,
   "metadata": {
    "id": "Q3DK67Y8oyKr"
   },
   "outputs": [],
   "source": [
    "## Iterate over the training dataset in mini-batches\n",
    "## Implement forward pass, compute loss, and backward pass for gradient computation\n",
    "## Update model parameters using the optimizer based on computed gradients\n",
    "## Validate the model on the validation set periodically and plot the validation loss\n",
    "## Repeat the training process for a suitable number of epochs (at least 30epochs)\n",
    "\n",
    "import torch\n",
    "import torch.optim as optim\n",
    "from torch.utils.data import DataLoader\n",
    "import matplotlib.pyplot as plt\n",
    "\n",
    "def train_model(train_set, val_set, model, lr, batch_size, optimizer_type, device, num_epochs=30):\n",
    "    # Prepare data loaders\n",
    "    train_loader = DataLoader(train_set, batch_size=batch_size, shuffle=True)\n",
    "    val_loader = DataLoader(val_set, batch_size=batch_size, shuffle=False)\n",
    "\n",
    "    # Initialize optimizer\n",
    "    if optimizer_type == \"Adam\":\n",
    "        optimizer = optim.Adam(model.parameters(), lr=lr)\n",
    "    elif optimizer_type == \"SGD\":\n",
    "        optimizer = optim.SGD(model.parameters(), lr=lr)\n",
    "\n",
    "    criterion = torch.nn.CrossEntropyLoss()\n",
    "\n",
    "    # Store metrics\n",
    "    train_losses = []\n",
    "    val_losses = []\n",
    "    val_accuracies = []\n",
    "\n",
    "    # Training loop\n",
    "    for epoch in range(num_epochs):\n",
    "        model.train()\n",
    "        train_loss = 0\n",
    "        correct_train = 0\n",
    "        total_train = 0\n",
    "\n",
    "        for images, labels in train_loader:\n",
    "            images, labels = images.to(device), labels.to(device)\n",
    "            optimizer.zero_grad()\n",
    "            output = model(images)\n",
    "            loss = criterion(output, labels)\n",
    "            loss.backward()\n",
    "            optimizer.step()\n",
    "\n",
    "            train_loss += loss.item()\n",
    "            _, predicted = torch.max(output, 1)\n",
    "            total_train += labels.size(0)\n",
    "            correct_train += (predicted == labels).sum().item()\n",
    "\n",
    "        train_loss /= len(train_loader)\n",
    "        train_accuracy = (correct_train / total_train) * 100\n",
    "\n",
    "        # Validation loop\n",
    "        model.eval()\n",
    "        val_loss = 0\n",
    "        correct_val = 0\n",
    "        total_val = 0\n",
    "\n",
    "        with torch.no_grad():\n",
    "            for images, labels in val_loader:\n",
    "                images, labels = images.to(device), labels.to(device)\n",
    "                output = model(images)\n",
    "                loss = criterion(output, labels)\n",
    "                val_loss += loss.item()\n",
    "                _, predicted = torch.max(output, 1)\n",
    "                total_val += labels.size(0)\n",
    "                correct_val += (predicted == labels).sum().item()\n",
    "\n",
    "        val_loss /= len(val_loader)\n",
    "        val_accuracy = (correct_val / total_val) * 100\n",
    "\n",
    "        # Log metrics for this epoch\n",
    "        train_losses.append(train_loss)\n",
    "        val_losses.append(val_loss)\n",
    "        val_accuracies.append(val_accuracy)\n",
    "\n",
    "        print(f\"Epoch: {epoch+1}/{num_epochs}, Train Loss: {train_loss:.4f}, Train Acc: {train_accuracy:.2f}%, \\\n",
    "              Val Loss: {val_loss:.4f}, Val Acc: {val_accuracy:.2f}%\")\n",
    "\n",
    "    return {\n",
    "        \"train_losses\": train_losses,\n",
    "        \"val_losses\": val_losses,\n",
    "        \"val_accuracies\": val_accuracies\n",
    "    }\n",
    "\n",
    "\n"
   ]
  },
  {
   "cell_type": "code",
   "execution_count": null,
   "metadata": {
    "id": "odi6ZqswgCsG"
   },
   "outputs": [],
   "source": [
    "## You can conduct experiments with different hyperparameters to get the best performing model, considering you will be uploading your best model into Kaggle for compitation :)\n",
    "device = torch.device('cuda' if torch.cuda.is_available() else 'cpu')\n",
    "\n",
    "# Model 1: Adam optimizer, lr=0.001, batch_size=32\n",
    "model1 = CustomCNN().to(device)\n",
    "results1 = train_model(train_set, val_set, model1, lr=0.001, batch_size=32, optimizer_type=\"Adam\", device=device)\n",
    "\n",
    "# Model 2: SGD optimizer, lr=0.01, batch_size=64\n",
    "model2 = CustomCNN().to(device)\n",
    "results2 = train_model(train_set, val_set, model2, lr=0.01, batch_size=64, optimizer_type=\"SGD\", device=device)\n",
    "\n",
    "# Model 3: Adam optimizer, lr=0.005, batch_size=64\n",
    "model3 = CustomCNN().to(device)\n",
    "results3 = train_model(train_set, val_set, model3, lr=0.005, batch_size=64, optimizer_type=\"Adam\", device=device)\n",
    "\n"
   ]
  },
  {
   "cell_type": "markdown",
   "metadata": {
    "id": "86YzyL-xr-Z6"
   },
   "source": [
    "Mention about, why did you choose your learning rate and batch size?\n",
    "\n",
    "A small learn rate: 0.001 which prevents overshooting meanwhile saves accuracy, it ensures stable convergence."
   ]
  },
  {
   "cell_type": "code",
   "execution_count": null,
   "metadata": {
    "id": "aiqcJh6XgIxF"
   },
   "outputs": [
    {
     "data": {
      "image/png": "[encoded data removed]",
      "text/plain": [
       "<Figure size 1200x500 with 2 Axes>"
      ]
     },
     "metadata": {},
     "output_type": "display_data"
    }
   ],
   "source": [
    "## Select your best model with respect to validation accuracy\n",
    "## Visualize the accuracy and loss change of the best performing model across training and validation datasets.\n",
    "\n",
    "def visualize_performance(results, model_name=\"Best Model\"):\n",
    "    # Plotting the loss and accuracy for the best model\n",
    "    plt.figure(figsize=(12, 5))\n",
    "\n",
    "    # Plot Training and Validation Loss\n",
    "    plt.subplot(1, 2, 1)\n",
    "    plt.plot(results[\"train_losses\"], label=\"Train Loss\")\n",
    "    plt.plot(results[\"val_losses\"], label=\"Validation Loss\")\n",
    "    plt.title(f'{model_name} - Training and Validation Loss')\n",
    "    plt.xlabel('Epochs')\n",
    "    plt.ylabel('Loss')\n",
    "    plt.legend()\n",
    "\n",
    "    # Plot Validation Accuracy\n",
    "    plt.subplot(1, 2, 2)\n",
    "    plt.plot(results[\"val_accuracies\"], label=\"Validation Accuracy\")\n",
    "    plt.title(f'{model_name} - Validation Accuracy')\n",
    "    plt.xlabel('Epochs')\n",
    "    plt.ylabel('Accuracy (%)')\n",
    "    plt.legend()\n",
    "\n",
    "    # Show plots\n",
    "    plt.tight_layout()\n",
    "    plt.show()\n",
    "\n",
    "\n",
    "visualize_performance(results1, model_name=\"Model 1 (Adam, lr=0.001, batch_size=32)\")\n"
   ]
  },
  {
   "cell_type": "markdown",
   "metadata": {
    "id": "Snzyw25wy2qD"
   },
   "source": [
    "### 1.6 Evaluate the trained model on the test set (6 points)"
   ]
  },
  {
   "cell_type": "code",
   "execution_count": null,
   "metadata": {
    "id": "QzZCISJRy7eR"
   },
   "outputs": [
    {
     "name": "stdout",
     "output_type": "stream",
     "text": [
      "Test Accuracy: 46.13%\n",
      "              precision    recall  f1-score   support\n",
      "\n",
      "        cane       0.15      0.12      0.13        78\n",
      "     cavallo       0.40      0.32      0.35        60\n",
      "    elefante       0.58      0.56      0.57        86\n",
      "    farfalla       0.67      0.67      0.67        72\n",
      "     gallina       0.56      0.51      0.54        74\n",
      "       gatto       0.38      0.47      0.42        74\n",
      "       mucca       0.41      0.44      0.42        73\n",
      "      pecora       0.42      0.46      0.44        80\n",
      "       ragno       0.61      0.57      0.59        82\n",
      "  scoiattolo       0.40      0.46      0.43        71\n",
      "\n",
      "    accuracy                           0.46       750\n",
      "   macro avg       0.46      0.46      0.46       750\n",
      "weighted avg       0.46      0.46      0.46       750\n",
      "\n"
     ]
    }
   ],
   "source": [
    "# Test the trained model on the test set to evaluate its performance\n",
    "# Compute metrics such as accuracy, precision, recall, and F1-score\n",
    "# Visualize confusion matrix to understand the model's behavior across different classes\n",
    "# Comment on the results\n",
    "\n",
    "def test_model(test_set, model, device):\n",
    "    test_loader = DataLoader(test_set, batch_size=64, shuffle=False)\n",
    "\n",
    "    # Initialize metrics\n",
    "    correct = 0\n",
    "    total = 0\n",
    "    y_true = []\n",
    "    y_pred = []\n",
    "    \n",
    "    # No need to calculate gradients\n",
    "\n",
    "    with torch.no_grad():\n",
    "        for images, labels in test_loader:\n",
    "            images, labels = images.to(device), labels.to(device)\n",
    "            outputs = model(images)\n",
    "            _, predicted = torch.max(outputs, 1)\n",
    "            total += labels.size(0)\n",
    "            correct += (predicted == labels).sum().item()\n",
    "            y_true.extend(labels.cpu().numpy())\n",
    "            y_pred.extend(predicted.cpu().numpy())\n",
    "\n",
    "    accuracy = correct / total * 100\n",
    "\n",
    "    return accuracy, y_true, y_pred\n",
    "\n",
    "accuracy, y_true, y_pred = test_model(test_set, model1, device)\n",
    "\n",
    "print(f\"Test Accuracy: {accuracy:.2f}%\")\n",
    "\n",
    "# Compute metrics\n",
    "from sklearn.metrics import classification_report\n",
    "\n",
    "print(classification_report(y_true, y_pred, target_names=dataset.classes))\n",
    "\n",
    "\n",
    "\n"
   ]
  },
  {
   "cell_type": "markdown",
   "metadata": {
    "id": "RCPD35O9zPri"
   },
   "source": [
    "### 1.7 Conclusion and interpretation (7 points)\n",
    "* Summarize the performance of the model on the test set\n",
    "* Discuss any challenges encountered during training and potential areas for improvement\n",
    "* Reflect on the overall effectiveness of the chosen CNN architecture and training approach"
   ]
  },
  {
   "cell_type": "markdown",
   "metadata": {},
   "source": [
    "### Model Performance Summary\n",
    "\n",
    "### **Test Accuracy**\n",
    "- Achieved **46.13%** accuracy on the test set. Which is pretty bad, but model is very simple and trained on my CPU with very simple parameters and had no time to really work on the problem since lots of midterms and hard schedule. It specifically suffers in 'cane' and 'cavallo' a lot than others.\n",
    "\n",
    "### **Challenges**\n",
    "- **Dataset Quality**: The dataset is somewhat broken, with better versions available that could improve model performance.\n",
    "- **Class Imbalance**: Uneven support affected precision and recall.\n",
    "- **Limited Data**: Insufficient variety led to underfitting.\n",
    "\n",
    "### **Improvements**\n",
    "- Use a better-quality version of the dataset.\n",
    "- Apply data augmentation and optimize the architecture for better generalization.\n",
    "\n",
    "### Reflection on CNN Architecture and Training Approach\n",
    "\n",
    "### **Effectiveness of the Architecture**\n",
    "- The chosen CNN architecture with four convolutional layers followed by fully connected layers was a good starting point. It captured basic features well, but struggled with more complex patterns due to the limited depth of the network.\n",
    "- The architecture worked for simple image recognition tasks, but improvements such as deeper networks or transfer learning with pre-trained models could enhance performance.\n",
    "\n",
    "### **Training Approach**\n",
    "- The training approach, while reasonable, faced challenges due to the quality and size of the dataset. With better data and additional techniques like data augmentation, the model could likely achieve better results.\n",
    "- Hyperparameters such as learning rate and batch size were a reasonable choice, but further tuning could improve convergence and overall performance.\n",
    "\n",
    "### **Conclusion**\n",
    "- The current model serves as a solid baseline, but there is significant room for improvement, especially with better data and more advanced techniques.\n"
   ]
  },
  {
   "cell_type": "markdown",
   "metadata": {
    "id": "LRSuH_PhblsG"
   },
   "source": [
    "### 1.8 Kaggle Test Result (5 points)\n",
    "* Put your Kaggle test result for your CNN model here and comment on it.\n",
    "* You will get a score between 0-1 and your percentage (e.g. 0.1, 0.3, 0.6, 0.85) of accuracy will be multiplied by the highest possible score (5 points) for this part. That will be your grading score."
   ]
  },
  {
   "cell_type": "markdown",
   "metadata": {
    "id": "Jfa8FPbS8RCC"
   },
   "source": [
    "## 2. Exploring Transfer Learning with ResNet50 and MobileNet (60 points)"
   ]
  },
  {
   "cell_type": "markdown",
   "metadata": {
    "id": "70saVqfas_xw"
   },
   "source": [
    "### 2.1. Introduction\n",
    "* Brief overview of the task.\n",
    "* Answer the questions like, What is fine-tuning? Why should we do this? Why do we freeze the rest and train only last layers?"
   ]
  },
  {
   "cell_type": "markdown",
   "metadata": {},
   "source": [
    "### Task Overview\n",
    "\n",
    "In this task, we imported pre-trained models such as **ResNet18** and **MobileNet** and performed **fine-tuning** to further train them on our specific dataset.\n",
    "\n",
    "### What is Fine-Tuning?\n",
    "\n",
    "Fine-tuning is the process of taking a pre-trained model and adjusting it for a new task by training it on a new dataset. Instead of training the model from scratch, we use the knowledge already learned from large datasets (like ImageNet) and adapt the model to recognize specific features in our data.\n",
    "\n",
    "### Why Should We Do Fine-Tuning?\n",
    "\n",
    "- **Efficiency**: Fine-tuning allows us to leverage pre-trained models, saving time and computational resources compared to training from scratch.\n",
    "- **Better Performance**: Pre-trained models have already learned general features (edges, textures, etc.), which helps them perform better on smaller or specialized datasets.\n",
    "- **Faster Convergence**: Starting with a pre-trained model leads to faster convergence during training as it already has learned useful features.\n",
    "\n",
    "\n",
    "### Why Freeze the Rest and Train Only the Last Layers?\n",
    "\n",
    "- **Avoid Overfitting**: Freezing the earlier layers helps prevent overfitting, especially when we have limited data. These layers have already learned useful features and don't need further adjustments.\n",
    "- **Faster Training**: By freezing the earlier layers, we reduce the number of parameters to update, which speeds up the training process.\n",
    "- **Focus on Specific Features**: The last layers are usually more task-specific, so training only these layers allows the model to adapt its final decision-making capabilities to the new task without losing the general features learned earlier.\n"
   ]
  },
  {
   "cell_type": "markdown",
   "metadata": {
    "id": "7AUPSGkss_xx"
   },
   "source": [
    "### 2.2. Load the pre-trained ResNet18 model (3 points)\n"
   ]
  },
  {
   "cell_type": "code",
   "execution_count": 13,
   "metadata": {
    "id": "ujz4g2mJs_xx"
   },
   "outputs": [
    {
     "name": "stderr",
     "output_type": "stream",
     "text": [
      "c:\\Users\\Yusuf\\AppData\\Local\\Programs\\Python\\Python312\\Lib\\site-packages\\torchvision\\models\\_utils.py:208: UserWarning: The parameter 'pretrained' is deprecated since 0.13 and may be removed in the future, please use 'weights' instead.\n",
      "  warnings.warn(\n",
      "c:\\Users\\Yusuf\\AppData\\Local\\Programs\\Python\\Python312\\Lib\\site-packages\\torchvision\\models\\_utils.py:223: UserWarning: Arguments other than a weight enum or `None` for 'weights' are deprecated since 0.13 and may be removed in the future. The current behavior is equivalent to passing `weights=ResNet50_Weights.IMAGENET1K_V1`. You can also use `weights=ResNet50_Weights.DEFAULT` to get the most up-to-date weights.\n",
      "  warnings.warn(msg)\n"
     ]
    },
    {
     "name": "stdout",
     "output_type": "stream",
     "text": [
      "ResNet(\n",
      "  (conv1): Conv2d(3, 64, kernel_size=(7, 7), stride=(2, 2), padding=(3, 3), bias=False)\n",
      "  (bn1): BatchNorm2d(64, eps=1e-05, momentum=0.1, affine=True, track_running_stats=True)\n",
      "  (relu): ReLU(inplace=True)\n",
      "  (maxpool): MaxPool2d(kernel_size=3, stride=2, padding=1, dilation=1, ceil_mode=False)\n",
      "  (layer1): Sequential(\n",
      "    (0): Bottleneck(\n",
      "      (conv1): Conv2d(64, 64, kernel_size=(1, 1), stride=(1, 1), bias=False)\n",
      "      (bn1): BatchNorm2d(64, eps=1e-05, momentum=0.1, affine=True, track_running_stats=True)\n",
      "      (conv2): Conv2d(64, 64, kernel_size=(3, 3), stride=(1, 1), padding=(1, 1), bias=False)\n",
      "      (bn2): BatchNorm2d(64, eps=1e-05, momentum=0.1, affine=True, track_running_stats=True)\n",
      "      (conv3): Conv2d(64, 256, kernel_size=(1, 1), stride=(1, 1), bias=False)\n",
      "      (bn3): BatchNorm2d(256, eps=1e-05, momentum=0.1, affine=True, track_running_stats=True)\n",
      "      (relu): ReLU(inplace=True)\n",
      "      (downsample): Sequential(\n",
      "        (0): Conv2d(64, 256, kernel_size=(1, 1), stride=(1, 1), bias=False)\n",
      "        (1): BatchNorm2d(256, eps=1e-05, momentum=0.1, affine=True, track_running_stats=True)\n",
      "      )\n",
      "    )\n",
      "    (1): Bottleneck(\n",
      "      (conv1): Conv2d(256, 64, kernel_size=(1, 1), stride=(1, 1), bias=False)\n",
      "      (bn1): BatchNorm2d(64, eps=1e-05, momentum=0.1, affine=True, track_running_stats=True)\n",
      "      (conv2): Conv2d(64, 64, kernel_size=(3, 3), stride=(1, 1), padding=(1, 1), bias=False)\n",
      "      (bn2): BatchNorm2d(64, eps=1e-05, momentum=0.1, affine=True, track_running_stats=True)\n",
      "      (conv3): Conv2d(64, 256, kernel_size=(1, 1), stride=(1, 1), bias=False)\n",
      "      (bn3): BatchNorm2d(256, eps=1e-05, momentum=0.1, affine=True, track_running_stats=True)\n",
      "      (relu): ReLU(inplace=True)\n",
      "    )\n",
      "    (2): Bottleneck(\n",
      "      (conv1): Conv2d(256, 64, kernel_size=(1, 1), stride=(1, 1), bias=False)\n",
      "      (bn1): BatchNorm2d(64, eps=1e-05, momentum=0.1, affine=True, track_running_stats=True)\n",
      "      (conv2): Conv2d(64, 64, kernel_size=(3, 3), stride=(1, 1), padding=(1, 1), bias=False)\n",
      "      (bn2): BatchNorm2d(64, eps=1e-05, momentum=0.1, affine=True, track_running_stats=True)\n",
      "      (conv3): Conv2d(64, 256, kernel_size=(1, 1), stride=(1, 1), bias=False)\n",
      "      (bn3): BatchNorm2d(256, eps=1e-05, momentum=0.1, affine=True, track_running_stats=True)\n",
      "      (relu): ReLU(inplace=True)\n",
      "    )\n",
      "  )\n",
      "  (layer2): Sequential(\n",
      "    (0): Bottleneck(\n",
      "      (conv1): Conv2d(256, 128, kernel_size=(1, 1), stride=(1, 1), bias=False)\n",
      "      (bn1): BatchNorm2d(128, eps=1e-05, momentum=0.1, affine=True, track_running_stats=True)\n",
      "      (conv2): Conv2d(128, 128, kernel_size=(3, 3), stride=(2, 2), padding=(1, 1), bias=False)\n",
      "      (bn2): BatchNorm2d(128, eps=1e-05, momentum=0.1, affine=True, track_running_stats=True)\n",
      "      (conv3): Conv2d(128, 512, kernel_size=(1, 1), stride=(1, 1), bias=False)\n",
      "      (bn3): BatchNorm2d(512, eps=1e-05, momentum=0.1, affine=True, track_running_stats=True)\n",
      "      (relu): ReLU(inplace=True)\n",
      "      (downsample): Sequential(\n",
      "        (0): Conv2d(256, 512, kernel_size=(1, 1), stride=(2, 2), bias=False)\n",
      "        (1): BatchNorm2d(512, eps=1e-05, momentum=0.1, affine=True, track_running_stats=True)\n",
      "      )\n",
      "    )\n",
      "    (1): Bottleneck(\n",
      "      (conv1): Conv2d(512, 128, kernel_size=(1, 1), stride=(1, 1), bias=False)\n",
      "      (bn1): BatchNorm2d(128, eps=1e-05, momentum=0.1, affine=True, track_running_stats=True)\n",
      "      (conv2): Conv2d(128, 128, kernel_size=(3, 3), stride=(1, 1), padding=(1, 1), bias=False)\n",
      "      (bn2): BatchNorm2d(128, eps=1e-05, momentum=0.1, affine=True, track_running_stats=True)\n",
      "      (conv3): Conv2d(128, 512, kernel_size=(1, 1), stride=(1, 1), bias=False)\n",
      "      (bn3): BatchNorm2d(512, eps=1e-05, momentum=0.1, affine=True, track_running_stats=True)\n",
      "      (relu): ReLU(inplace=True)\n",
      "    )\n",
      "    (2): Bottleneck(\n",
      "      (conv1): Conv2d(512, 128, kernel_size=(1, 1), stride=(1, 1), bias=False)\n",
      "      (bn1): BatchNorm2d(128, eps=1e-05, momentum=0.1, affine=True, track_running_stats=True)\n",
      "      (conv2): Conv2d(128, 128, kernel_size=(3, 3), stride=(1, 1), padding=(1, 1), bias=False)\n",
      "      (bn2): BatchNorm2d(128, eps=1e-05, momentum=0.1, affine=True, track_running_stats=True)\n",
      "      (conv3): Conv2d(128, 512, kernel_size=(1, 1), stride=(1, 1), bias=False)\n",
      "      (bn3): BatchNorm2d(512, eps=1e-05, momentum=0.1, affine=True, track_running_stats=True)\n",
      "      (relu): ReLU(inplace=True)\n",
      "    )\n",
      "    (3): Bottleneck(\n",
      "      (conv1): Conv2d(512, 128, kernel_size=(1, 1), stride=(1, 1), bias=False)\n",
      "      (bn1): BatchNorm2d(128, eps=1e-05, momentum=0.1, affine=True, track_running_stats=True)\n",
      "      (conv2): Conv2d(128, 128, kernel_size=(3, 3), stride=(1, 1), padding=(1, 1), bias=False)\n",
      "      (bn2): BatchNorm2d(128, eps=1e-05, momentum=0.1, affine=True, track_running_stats=True)\n",
      "      (conv3): Conv2d(128, 512, kernel_size=(1, 1), stride=(1, 1), bias=False)\n",
      "      (bn3): BatchNorm2d(512, eps=1e-05, momentum=0.1, affine=True, track_running_stats=True)\n",
      "      (relu): ReLU(inplace=True)\n",
      "    )\n",
      "  )\n",
      "  (layer3): Sequential(\n",
      "    (0): Bottleneck(\n",
      "      (conv1): Conv2d(512, 256, kernel_size=(1, 1), stride=(1, 1), bias=False)\n",
      "      (bn1): BatchNorm2d(256, eps=1e-05, momentum=0.1, affine=True, track_running_stats=True)\n",
      "      (conv2): Conv2d(256, 256, kernel_size=(3, 3), stride=(2, 2), padding=(1, 1), bias=False)\n",
      "      (bn2): BatchNorm2d(256, eps=1e-05, momentum=0.1, affine=True, track_running_stats=True)\n",
      "      (conv3): Conv2d(256, 1024, kernel_size=(1, 1), stride=(1, 1), bias=False)\n",
      "      (bn3): BatchNorm2d(1024, eps=1e-05, momentum=0.1, affine=True, track_running_stats=True)\n",
      "      (relu): ReLU(inplace=True)\n",
      "      (downsample): Sequential(\n",
      "        (0): Conv2d(512, 1024, kernel_size=(1, 1), stride=(2, 2), bias=False)\n",
      "        (1): BatchNorm2d(1024, eps=1e-05, momentum=0.1, affine=True, track_running_stats=True)\n",
      "      )\n",
      "    )\n",
      "    (1): Bottleneck(\n",
      "      (conv1): Conv2d(1024, 256, kernel_size=(1, 1), stride=(1, 1), bias=False)\n",
      "      (bn1): BatchNorm2d(256, eps=1e-05, momentum=0.1, affine=True, track_running_stats=True)\n",
      "      (conv2): Conv2d(256, 256, kernel_size=(3, 3), stride=(1, 1), padding=(1, 1), bias=False)\n",
      "      (bn2): BatchNorm2d(256, eps=1e-05, momentum=0.1, affine=True, track_running_stats=True)\n",
      "      (conv3): Conv2d(256, 1024, kernel_size=(1, 1), stride=(1, 1), bias=False)\n",
      "      (bn3): BatchNorm2d(1024, eps=1e-05, momentum=0.1, affine=True, track_running_stats=True)\n",
      "      (relu): ReLU(inplace=True)\n",
      "    )\n",
      "    (2): Bottleneck(\n",
      "      (conv1): Conv2d(1024, 256, kernel_size=(1, 1), stride=(1, 1), bias=False)\n",
      "      (bn1): BatchNorm2d(256, eps=1e-05, momentum=0.1, affine=True, track_running_stats=True)\n",
      "      (conv2): Conv2d(256, 256, kernel_size=(3, 3), stride=(1, 1), padding=(1, 1), bias=False)\n",
      "      (bn2): BatchNorm2d(256, eps=1e-05, momentum=0.1, affine=True, track_running_stats=True)\n",
      "      (conv3): Conv2d(256, 1024, kernel_size=(1, 1), stride=(1, 1), bias=False)\n",
      "      (bn3): BatchNorm2d(1024, eps=1e-05, momentum=0.1, affine=True, track_running_stats=True)\n",
      "      (relu): ReLU(inplace=True)\n",
      "    )\n",
      "    (3): Bottleneck(\n",
      "      (conv1): Conv2d(1024, 256, kernel_size=(1, 1), stride=(1, 1), bias=False)\n",
      "      (bn1): BatchNorm2d(256, eps=1e-05, momentum=0.1, affine=True, track_running_stats=True)\n",
      "      (conv2): Conv2d(256, 256, kernel_size=(3, 3), stride=(1, 1), padding=(1, 1), bias=False)\n",
      "      (bn2): BatchNorm2d(256, eps=1e-05, momentum=0.1, affine=True, track_running_stats=True)\n",
      "      (conv3): Conv2d(256, 1024, kernel_size=(1, 1), stride=(1, 1), bias=False)\n",
      "      (bn3): BatchNorm2d(1024, eps=1e-05, momentum=0.1, affine=True, track_running_stats=True)\n",
      "      (relu): ReLU(inplace=True)\n",
      "    )\n",
      "    (4): Bottleneck(\n",
      "      (conv1): Conv2d(1024, 256, kernel_size=(1, 1), stride=(1, 1), bias=False)\n",
      "      (bn1): BatchNorm2d(256, eps=1e-05, momentum=0.1, affine=True, track_running_stats=True)\n",
      "      (conv2): Conv2d(256, 256, kernel_size=(3, 3), stride=(1, 1), padding=(1, 1), bias=False)\n",
      "      (bn2): BatchNorm2d(256, eps=1e-05, momentum=0.1, affine=True, track_running_stats=True)\n",
      "      (conv3): Conv2d(256, 1024, kernel_size=(1, 1), stride=(1, 1), bias=False)\n",
      "      (bn3): BatchNorm2d(1024, eps=1e-05, momentum=0.1, affine=True, track_running_stats=True)\n",
      "      (relu): ReLU(inplace=True)\n",
      "    )\n",
      "    (5): Bottleneck(\n",
      "      (conv1): Conv2d(1024, 256, kernel_size=(1, 1), stride=(1, 1), bias=False)\n",
      "      (bn1): BatchNorm2d(256, eps=1e-05, momentum=0.1, affine=True, track_running_stats=True)\n",
      "      (conv2): Conv2d(256, 256, kernel_size=(3, 3), stride=(1, 1), padding=(1, 1), bias=False)\n",
      "      (bn2): BatchNorm2d(256, eps=1e-05, momentum=0.1, affine=True, track_running_stats=True)\n",
      "      (conv3): Conv2d(256, 1024, kernel_size=(1, 1), stride=(1, 1), bias=False)\n",
      "      (bn3): BatchNorm2d(1024, eps=1e-05, momentum=0.1, affine=True, track_running_stats=True)\n",
      "      (relu): ReLU(inplace=True)\n",
      "    )\n",
      "  )\n",
      "  (layer4): Sequential(\n",
      "    (0): Bottleneck(\n",
      "      (conv1): Conv2d(1024, 512, kernel_size=(1, 1), stride=(1, 1), bias=False)\n",
      "      (bn1): BatchNorm2d(512, eps=1e-05, momentum=0.1, affine=True, track_running_stats=True)\n",
      "      (conv2): Conv2d(512, 512, kernel_size=(3, 3), stride=(2, 2), padding=(1, 1), bias=False)\n",
      "      (bn2): BatchNorm2d(512, eps=1e-05, momentum=0.1, affine=True, track_running_stats=True)\n",
      "      (conv3): Conv2d(512, 2048, kernel_size=(1, 1), stride=(1, 1), bias=False)\n",
      "      (bn3): BatchNorm2d(2048, eps=1e-05, momentum=0.1, affine=True, track_running_stats=True)\n",
      "      (relu): ReLU(inplace=True)\n",
      "      (downsample): Sequential(\n",
      "        (0): Conv2d(1024, 2048, kernel_size=(1, 1), stride=(2, 2), bias=False)\n",
      "        (1): BatchNorm2d(2048, eps=1e-05, momentum=0.1, affine=True, track_running_stats=True)\n",
      "      )\n",
      "    )\n",
      "    (1): Bottleneck(\n",
      "      (conv1): Conv2d(2048, 512, kernel_size=(1, 1), stride=(1, 1), bias=False)\n",
      "      (bn1): BatchNorm2d(512, eps=1e-05, momentum=0.1, affine=True, track_running_stats=True)\n",
      "      (conv2): Conv2d(512, 512, kernel_size=(3, 3), stride=(1, 1), padding=(1, 1), bias=False)\n",
      "      (bn2): BatchNorm2d(512, eps=1e-05, momentum=0.1, affine=True, track_running_stats=True)\n",
      "      (conv3): Conv2d(512, 2048, kernel_size=(1, 1), stride=(1, 1), bias=False)\n",
      "      (bn3): BatchNorm2d(2048, eps=1e-05, momentum=0.1, affine=True, track_running_stats=True)\n",
      "      (relu): ReLU(inplace=True)\n",
      "    )\n",
      "    (2): Bottleneck(\n",
      "      (conv1): Conv2d(2048, 512, kernel_size=(1, 1), stride=(1, 1), bias=False)\n",
      "      (bn1): BatchNorm2d(512, eps=1e-05, momentum=0.1, affine=True, track_running_stats=True)\n",
      "      (conv2): Conv2d(512, 512, kernel_size=(3, 3), stride=(1, 1), padding=(1, 1), bias=False)\n",
      "      (bn2): BatchNorm2d(512, eps=1e-05, momentum=0.1, affine=True, track_running_stats=True)\n",
      "      (conv3): Conv2d(512, 2048, kernel_size=(1, 1), stride=(1, 1), bias=False)\n",
      "      (bn3): BatchNorm2d(2048, eps=1e-05, momentum=0.1, affine=True, track_running_stats=True)\n",
      "      (relu): ReLU(inplace=True)\n",
      "    )\n",
      "  )\n",
      "  (avgpool): AdaptiveAvgPool2d(output_size=(1, 1))\n",
      "  (fc): Linear(in_features=2048, out_features=1000, bias=True)\n",
      ")\n"
     ]
    }
   ],
   "source": [
    "# Utilize torchvision library to load the pre-trained ResNet50 model\n",
    "# Ensure that the model's architecture matches ResNet50, by checking the model summary.\n",
    "\n",
    "import torchvision.models as models\n",
    "\n",
    "resnet50 = models.resnet50(pretrained=True)\n",
    "print(resnet50)\n"
   ]
  },
  {
   "cell_type": "code",
   "execution_count": 18,
   "metadata": {},
   "outputs": [],
   "source": [
    "def trainDefault(model, train_loader, criterion, optimizer, num_epochs=30, device='cuda'):\n",
    "    model = model.to(device)\n",
    "    final_loss = None  # Initialize variable to store the last epoch's loss\n",
    "\n",
    "    for epoch in range(num_epochs):\n",
    "        model.train()\n",
    "        running_loss = 0.0\n",
    "\n",
    "        for inputs, labels in train_loader:\n",
    "            inputs, labels = inputs.to(device), labels.to(device)\n",
    "            optimizer.zero_grad()\n",
    "            outputs = model(inputs)\n",
    "            loss = criterion(outputs, labels)\n",
    "            loss.backward()\n",
    "            optimizer.step()\n",
    "\n",
    "            running_loss += loss.item()\n",
    "\n",
    "        epoch_loss = running_loss / len(train_loader)\n",
    "        print(f\"Epoch [{epoch + 1}/{num_epochs}], Loss: {epoch_loss:.4f}\")\n",
    "        final_loss = epoch_loss  # Store the latest epoch's loss\n",
    "\n",
    "    return final_loss\n",
    "\n",
    "\n"
   ]
  },
  {
   "cell_type": "markdown",
   "metadata": {
    "id": "H6P7NdYbs_xx"
   },
   "source": [
    "### 2.3 Modify the ResNet18 model for transfer learning (15 points)"
   ]
  },
  {
   "cell_type": "code",
   "execution_count": null,
   "metadata": {
    "id": "s46C2XOls_xx"
   },
   "outputs": [
    {
     "name": "stderr",
     "output_type": "stream",
     "text": [
      "c:\\Users\\Yusuf\\AppData\\Local\\Programs\\Python\\Python312\\Lib\\site-packages\\torchvision\\models\\_utils.py:208: UserWarning: The parameter 'pretrained' is deprecated since 0.13 and may be removed in the future, please use 'weights' instead.\n",
      "  warnings.warn(\n",
      "c:\\Users\\Yusuf\\AppData\\Local\\Programs\\Python\\Python312\\Lib\\site-packages\\torchvision\\models\\_utils.py:223: UserWarning: Arguments other than a weight enum or `None` for 'weights' are deprecated since 0.13 and may be removed in the future. The current behavior is equivalent to passing `weights=ResNet18_Weights.IMAGENET1K_V1`. You can also use `weights=ResNet18_Weights.DEFAULT` to get the most up-to-date weights.\n",
      "  warnings.warn(msg)\n"
     ]
    },
    {
     "name": "stdout",
     "output_type": "stream",
     "text": [
      "Epoch [1/30], Loss: 1.2162\n",
      "Epoch [2/30], Loss: 0.4425\n",
      "Epoch [3/30], Loss: 0.3079\n",
      "Epoch [4/30], Loss: 0.2571\n",
      "Epoch [5/30], Loss: 0.2139\n",
      "Epoch [6/30], Loss: 0.1951\n",
      "Epoch [7/30], Loss: 0.1810\n",
      "Epoch [8/30], Loss: 0.1628\n",
      "Epoch [9/30], Loss: 0.1538\n",
      "Epoch [10/30], Loss: 0.1426\n",
      "Epoch [11/30], Loss: 0.1328\n",
      "Epoch [12/30], Loss: 0.1209\n",
      "Epoch [13/30], Loss: 0.1186\n",
      "Epoch [14/30], Loss: 0.1089\n",
      "Epoch [15/30], Loss: 0.1083\n",
      "Epoch [16/30], Loss: 0.1023\n",
      "Epoch [17/30], Loss: 0.1020\n",
      "Epoch [18/30], Loss: 0.0947\n",
      "Epoch [19/30], Loss: 0.0952\n",
      "Epoch [20/30], Loss: 0.0897\n",
      "Epoch [21/30], Loss: 0.0845\n",
      "Epoch [22/30], Loss: 0.0803\n",
      "Epoch [23/30], Loss: 0.0722\n",
      "Epoch [24/30], Loss: 0.0749\n",
      "Epoch [25/30], Loss: 0.0669\n",
      "Epoch [26/30], Loss: 0.0713\n",
      "Epoch [27/30], Loss: 0.0668\n",
      "Epoch [28/30], Loss: 0.0625\n",
      "Epoch [29/30], Loss: 0.0662\n",
      "Epoch [30/30], Loss: 0.0610\n"
     ]
    }
   ],
   "source": [
    "# Freeze all layers of the ResNet18 model.\n",
    "# Replace the final fully connected layer with a new FC layer matching the number of classes\n",
    "# Unfreeze the final FC layer\n",
    "# Define appropriate loss function and optimizer for training\n",
    "# Train the modified ResNet18 model on the animal-10 image dataset. (base model)\n",
    "\n",
    "device = torch.device(\"cuda\" if torch.cuda.is_available() else \"cpu\")\n",
    "\n",
    "# Loading ResNet18 model\n",
    "resnet18 = models.resnet18(pretrained=True)\n",
    "\n",
    "# Freeze all layers\n",
    "for param in resnet18.parameters():\n",
    "    param.requires_grad = False\n",
    "\n",
    "# Replace final FC layer\n",
    "num_classes = 10  \n",
    "resnet18.fc = nn.Linear(resnet18.fc.in_features, num_classes)\n",
    "\n",
    "# Unfreeze the final FC layer\n",
    "for param in resnet18.fc.parameters():\n",
    "    param.requires_grad = True\n",
    "\n",
    "resnet18 = resnet18.to(device)\n",
    "\n",
    "criterion = nn.CrossEntropyLoss()\n",
    "optimizer = optim.Adam(resnet18.fc.parameters(), lr=0.001)\n",
    "\n",
    "\n",
    "lossOfResnet1 = trainDefault(resnet18, train_loader, criterion, optimizer, num_epochs=30, device=device)"
   ]
  },
  {
   "cell_type": "code",
   "execution_count": null,
   "metadata": {
    "id": "FlEHAyNX0QP0"
   },
   "outputs": [
    {
     "name": "stdout",
     "output_type": "stream",
     "text": [
      "Epoch [1/30], Loss: 1.2782\n",
      "Epoch [2/30], Loss: 0.4628\n",
      "Epoch [3/30], Loss: 0.3257\n",
      "Epoch [4/30], Loss: 0.2588\n",
      "Epoch [5/30], Loss: 0.2206\n",
      "Epoch [6/30], Loss: 0.2007\n",
      "Epoch [7/30], Loss: 0.1800\n",
      "Epoch [8/30], Loss: 0.1704\n",
      "Epoch [9/30], Loss: 0.1516\n",
      "Epoch [10/30], Loss: 0.1423\n",
      "Epoch [11/30], Loss: 0.1376\n",
      "Epoch [12/30], Loss: 0.1260\n",
      "Epoch [13/30], Loss: 0.1195\n",
      "Epoch [14/30], Loss: 0.1182\n",
      "Epoch [15/30], Loss: 0.1067\n",
      "Epoch [16/30], Loss: 0.1073\n",
      "Epoch [17/30], Loss: 0.0984\n",
      "Epoch [18/30], Loss: 0.0936\n",
      "Epoch [19/30], Loss: 0.0881\n",
      "Epoch [20/30], Loss: 0.0869\n",
      "Epoch [21/30], Loss: 0.0828\n",
      "Epoch [22/30], Loss: 0.0859\n",
      "Epoch [23/30], Loss: 0.0773\n",
      "Epoch [24/30], Loss: 0.0727\n",
      "Epoch [25/30], Loss: 0.0743\n",
      "Epoch [26/30], Loss: 0.0684\n",
      "Epoch [27/30], Loss: 0.0687\n",
      "Epoch [28/30], Loss: 0.0677\n",
      "Epoch [29/30], Loss: 0.0616\n",
      "Epoch [30/30], Loss: 0.0634\n"
     ]
    }
   ],
   "source": [
    "## Define another ResNet18 model\n",
    "## Freeze all layers of the ResNet18 model.\n",
    "## Replace the final fully connected layer with a new FC layer matching the number of classes\n",
    "## Unfreeze the final FC layer\n",
    "## Unfreeze convolutional layers 3 and 4 of the ResNet18 model and again proceed with training. (second model)\n",
    "\n",
    "# Loading ResNet18 model\n",
    "resnet18_2 = models.resnet18(pretrained=True)\n",
    "\n",
    "# Freeze all layers\n",
    "for param in resnet18_2.parameters():\n",
    "    param.requires_grad = False\n",
    "\n",
    "num_classes = 10  # Adjusted this for the number of classes in Animal-10\n",
    "resnet18_2.fc = nn.Linear(resnet18_2.fc.in_features, num_classes)\n",
    "\n",
    "# Unfreeze the final FC layer,\n",
    "for param in resnet18_2.fc.parameters():\n",
    "    param.requires_grad = True\n",
    "\n",
    "# Unfreeze conv3 and conv4 layers so it can be trained\n",
    "for name, param in resnet18_2.named_parameters():\n",
    "    if 'layer3' in name or 'layer4' in name:\n",
    "        param.requires_grad\n",
    "\n",
    "resnet18_2 = resnet18_2.to(device)\n",
    "\n",
    "criterion = nn.CrossEntropyLoss()\n",
    "optimizer = optim.Adam(resnet18_2.parameters(), lr=0.001)\n",
    "\n",
    "lossOfResnet2 = trainDefault(resnet18_2, train_loader, criterion, optimizer, num_epochs=30, device=device)\n",
    "\n"
   ]
  },
  {
   "cell_type": "code",
   "execution_count": null,
   "metadata": {
    "id": "nCnETnfayW4A"
   },
   "outputs": [
    {
     "name": "stdout",
     "output_type": "stream",
     "text": [
      "Epoch [1/30], Loss: 0.7160\n",
      "Epoch [2/30], Loss: 0.2936\n",
      "Epoch [3/30], Loss: 0.2047\n",
      "Epoch [4/30], Loss: 0.1453\n",
      "Epoch [5/30], Loss: 0.1071\n",
      "Epoch [6/30], Loss: 0.0756\n",
      "Epoch [7/30], Loss: 0.0633\n",
      "Epoch [8/30], Loss: 0.0602\n",
      "Epoch [9/30], Loss: 0.0817\n",
      "Epoch [10/30], Loss: 0.0945\n",
      "Epoch [11/30], Loss: 0.1044\n",
      "Epoch [12/30], Loss: 0.1292\n",
      "Epoch [13/30], Loss: 0.1104\n",
      "Epoch [14/30], Loss: 0.0472\n",
      "Epoch [15/30], Loss: 0.0356\n",
      "Epoch [16/30], Loss: 0.0127\n",
      "Epoch [17/30], Loss: 0.0027\n",
      "Epoch [18/30], Loss: 0.0019\n",
      "Epoch [19/30], Loss: 0.0013\n",
      "Epoch [20/30], Loss: 0.0004\n",
      "Epoch [21/30], Loss: 0.0003\n",
      "Epoch [22/30], Loss: 0.0003\n",
      "Epoch [23/30], Loss: 0.0004\n",
      "Epoch [24/30], Loss: 0.0003\n",
      "Epoch [25/30], Loss: 0.0002\n",
      "Epoch [26/30], Loss: 0.0002\n",
      "Epoch [27/30], Loss: 0.0001\n",
      "Epoch [28/30], Loss: 0.0001\n",
      "Epoch [29/30], Loss: 0.0001\n",
      "Epoch [30/30], Loss: 0.0001\n"
     ]
    }
   ],
   "source": [
    "## Define another ResNet18 model\n",
    "## Replace the final fully connected layer with a new FC layer matching the number of classes proceed with training. (third model)\n",
    "\n",
    "# Loading ResNet18 model\n",
    "resnet18_3 = models.resnet18(pretrained=True)\n",
    "\n",
    "device = torch.device(\"cuda\" if torch.cuda.is_available() else \"cpu\")\n",
    "\n",
    "\n",
    "# Replace final FC layer\n",
    "num_classes = 10  \n",
    "resnet18_3.fc = nn.Linear(resnet18_3.fc.in_features, num_classes)\n",
    "\n",
    "resnet18_3 = resnet18_3.to(device)\n",
    "\n",
    "criterion = nn.CrossEntropyLoss()\n",
    "optimizer = optim.Adam(resnet18_3.parameters(), lr=0.001)\n",
    "\n",
    "lossOfResnet3 = trainDefault(resnet18_3, train_loader, criterion, optimizer, num_epochs=30, device=device)\n",
    "\n"
   ]
  },
  {
   "cell_type": "code",
   "execution_count": 5,
   "metadata": {},
   "outputs": [],
   "source": [
    "def evaluate_model(model, test_loader, device):\n",
    "    model.eval()\n",
    "    correct = 0\n",
    "    total = 0\n",
    "\n",
    "    with torch.no_grad():\n",
    "        for inputs, labels in test_loader:\n",
    "            inputs, labels = inputs.to(device), labels.to(device)\n",
    "            outputs = model(inputs)\n",
    "            _, predicted = torch.max(outputs, 1)\n",
    "            total += labels.size(0)\n",
    "            correct += (predicted == labels).sum().item()\n",
    "            \n",
    "\n",
    "    accuracy = correct / total\n",
    "    print(f\"Model: {model.__class__.__name__}, Accuracy: {accuracy:.4f}\")\n",
    "    return accuracy"
   ]
  },
  {
   "cell_type": "code",
   "execution_count": 6,
   "metadata": {},
   "outputs": [],
   "source": [
    "import matplotlib.pyplot as plt\n",
    "\n",
    "def plot_model_metrics(accuracies, losses, model_names):\n",
    "    plt.figure(figsize=(12, 5))\n",
    "\n",
    "    # Plot Accuracy\n",
    "    plt.subplot(1, 2, 1)\n",
    "    plt.bar(model_names, accuracies, color='skyblue', alpha=0.2)\n",
    "    plt.ylabel('Accuracy')\n",
    "    plt.title('Model Accuracies')\n",
    "\n",
    "    # Plot Loss\n",
    "    plt.subplot(1, 2, 2)\n",
    "    plt.bar(model_names, losses, color='salmon', alpha=0.8)\n",
    "    plt.ylabel('Loss')\n",
    "    plt.title('Model Losses')\n",
    "\n",
    "    plt.tight_layout()\n",
    "    plt.show()\n"
   ]
  },
  {
   "cell_type": "code",
   "execution_count": null,
   "metadata": {
    "id": "g8dv5zSLi2p0"
   },
   "outputs": [],
   "source": [
    "## Define appropriate loss function and optimizer for training\n",
    "## Iterate over the training dataset in mini-batches, compute the loss, and update model parameters.\n",
    "## Monitor the training process and evaluate all model's performance on the validation set periodically.\n",
    "## Visualize the accuracy and loss changes of the models across training and validation datasets.\n",
    "\n",
    "best_model = None\n",
    "\n",
    "# Evaluate the base ResNet18 model\n",
    "accuracy_base = evaluate_model(resnet18, val_loader, device)\n",
    "\n",
    "# Evaluate the second ResNet18 model\n",
    "accuracy_2 = evaluate_model(resnet18_2, val_loader, device)\n",
    "\n",
    "# Evaluate the third ResNet18 model\n",
    "accuracy_3 = evaluate_model(resnet18_3, val_loader, device)\n",
    "\n",
    "\n",
    "accuracies = [accuracy_base, accuracy_2, accuracy_3]  # Accuracies from evaluation\n",
    "losses = [lossOfResnet1, lossOfResnet2, lossOfResnet3]  # Example average losses for each model\n",
    "model_names = ['ResNet18', 'ResNet18_2', 'ResNet18_3']\n",
    "\n",
    "# Plot the metrics\n",
    "plot_model_metrics(accuracies, losses, model_names)\n",
    "\n",
    "\n",
    "if accuracy_base > accuracy_2 and accuracy_base > accuracy_3:\n",
    "    best_model = resnet18\n",
    "\n",
    "elif accuracy_2 > accuracy_base and accuracy_2 > accuracy_3:\n",
    "    best_model = resnet18_2\n",
    "\n",
    "else:\n",
    "    best_model = resnet18_3\n",
    "\n",
    "    \n",
    "\n",
    "\n",
    "\n",
    "    "
   ]
  },
  {
   "cell_type": "markdown",
   "metadata": {
    "id": "Zodp-puH3wzC"
   },
   "source": [
    "Conduct a comparative analysis among these three models. Comment on their performance and select your best model with respect to validation accuracy.\n",
    "* Which model performed better and why do you think it performed better?  \n",
    "* Comment on the practical considerations among these models also."
   ]
  },
  {
   "cell_type": "markdown",
   "metadata": {},
   "source": [
    "## Comparative Analysis of the Models\n",
    "\n",
    "### **Model Performance**\n",
    "- **ResNet Base Model**: Achieved the highest accuracy of **94.00%** on the validation set.\n",
    "- **ResNet 2 (Unfreezing Conv3 and Conv4)**: Performed slightly worse with an accuracy of **93.73%**, which is still quite strong but not as good as the base model.\n",
    "- **ResNet 3 (Only Final FC Layer Unfrozen)**: Showed the lowest accuracy at **88.13%**, indicating that the model was underperforming compared to the other two.\n",
    "\n",
    "### **Why ResNet Base Performed Better**\n",
    "- **Base Model (Freezing All Except FC Layer)**: The base model focused on fine-tuning only the last layer, which allowed the pre-trained convolutional layers to retain general features learned from the large dataset (ImageNet). This setup performed better because it maintained the generalization power of the pre-trained model, and only the task-specific final layer was adapted.\n",
    "  \n",
    "- **ResNet 2 (Unfreezing Conv3 and Conv4)**: While unfreezing additional layers can sometimes improve performance by allowing the model to learn more complex features specific to the dataset, it may also lead to overfitting or slower convergence. This might explain the small performance drop compared to the base model.\n",
    "\n",
    "- **ResNet 3 (Only Final FC Layer)**: This model was essentially treated as if it were being trained from scratch, with only the final classification layer being modified. Without unfreezing any of the convolutional layers, the model couldn't fully leverage the feature extraction power of the pre-trained layers, leading to lower accuracy.\n",
    "\n",
    "### **Practical Considerations**\n",
    "- **ResNet Base**: Best for quick training and high accuracy when dataset quality is sufficient. It is an efficient solution when you have a smaller dataset and want to leverage powerful pre-trained features without overfitting. Also this model trained faster since it is more like adding some information above the pre-trained model.\n",
    "  \n",
    "- **ResNet 2**: Suitable for cases where the model might benefit from learning more specific features by unfreezing deeper layers. However, it may require more careful tuning and potentially more data to avoid overfitting.\n",
    "  \n",
    "- **ResNet 3**: This model is less practical in most cases since it does not take advantage of the pre-trained layers effectively, resulting in poorer performance. It may be more appropriate when fine-tuning is not possible or when working with very large datasets where fine-tuning the whole model is feasible.\n",
    "\n",
    "### **Conclusion**\n",
    "- **Best Model**: The **ResNet Base Model** performed the best, with a validation accuracy of 94%, because it leveraged pre-trained features effectively and minimized overfitting by freezing most layers.\n"
   ]
  },
  {
   "cell_type": "markdown",
   "metadata": {
    "id": "biAtQZdWs_xy"
   },
   "source": [
    "### 2.4 Evaluate the fine-tuned ResNet18 model (5 points)"
   ]
  },
  {
   "cell_type": "code",
   "execution_count": null,
   "metadata": {},
   "outputs": [],
   "source": [
    "def test_model(test_set, model, device):\n",
    "    test_loader = DataLoader(test_set, batch_size=64, shuffle=False)\n",
    "\n",
    "    correct = 0\n",
    "    total = 0\n",
    "    y_true = []\n",
    "    y_pred = []\n",
    "    \n",
    "    with torch.no_grad():\n",
    "        for images, labels in test_loader:\n",
    "            images, labels = images.to(device), labels.to(device)\n",
    "            outputs = model(images)\n",
    "            _, predicted = torch.max(outputs, 1)\n",
    "            total += labels.size(0)\n",
    "            correct += (predicted == labels).sum().item()\n",
    "            y_true.extend(labels.cpu().numpy())\n",
    "            y_pred.extend(predicted.cpu().numpy())\n",
    "\n",
    "    accuracy = correct / total * 100\n",
    "\n",
    "    return accuracy, y_true, y_pred"
   ]
  },
  {
   "cell_type": "code",
   "execution_count": null,
   "metadata": {
    "executionInfo": {
     "elapsed": 258,
     "status": "ok",
     "timestamp": 1732630507299,
     "user": {
      "displayName": "Sümeyye Meryem",
      "userId": "04766981645474141012"
     },
     "user_tz": -180
    },
    "id": "4DYImwx7s_xy"
   },
   "outputs": [],
   "source": [
    "## Test the best model on the test set to evaluate its performance.\n",
    "## Compute metrics such as accuracy, precision, recall, and F1-score to assess classification performance.\n",
    "## Visualize confusion matrix to understand the model's behavior across different classes\n",
    "## Comment on the results\n",
    "## Compare the fine-tuned ResNet18 model performance with the CNN model implemented from scratch\n",
    "\n",
    "# Test the base ResNet18 model\n",
    "accuracy_base_test, y_true_base, y_pred_base = test_model(test_set, best_model, device)\n",
    "\n",
    "from sklearn.metrics import classification_report, confusion_matrix\n",
    "\n",
    "print(\"Base ResNet18 Model:\")\n",
    "print(classification_report(y_true_base, y_pred_base, target_names=dataset.classes))\n",
    "\n",
    "# Visualize confusion matrix\n",
    "\n",
    "def plot_confusion_matrix(y_true, y_pred, classes):\n",
    "    cm = confusion_matrix(y_true, y_pred)\n",
    "    cm = cm.astype('float') / cm.sum(axis=1)[:, np.newaxis]  # Normalize\n",
    "\n",
    "    plt.figure(figsize=(10, 10))\n",
    "    sns.heatmap(cm, annot=True, fmt=\".2f\", cmap='Blues', xticklabels=classes, yticklabels=classes)\n",
    "    plt.xlabel('Predicted labels')\n",
    "    plt.ylabel('True labels')\n",
    "    plt.title('Confusion Matrix')\n",
    "    plt.show()\n",
    "\n",
    "# Plot confusion matrix for the best model\n",
    "plot_confusion_matrix(y_true_base, y_pred_base, dataset.classes)"
   ]
  },
  {
   "cell_type": "markdown",
   "metadata": {
    "id": "16ONKvGqcmcQ"
   },
   "source": [
    "### 2.5 Kaggle Test Result (5 points)\n",
    "* Put your Kaggle test result for your ResNet-18 pretrained model here and comment on it.\n",
    "* You will get a score between 0-1 and your percentage (e.g. 0.1, 0.3, 0.6, 0.85) of accuracy will be multiplied by the highest possible score (5 points) for this part. That will be your grading score."
   ]
  },
  {
   "cell_type": "markdown",
   "metadata": {
    "id": "998AhkSqxRLr"
   },
   "source": [
    "### 2.7. Load the pre-trained MobileNet model (3 points)\n"
   ]
  },
  {
   "cell_type": "code",
   "execution_count": null,
   "metadata": {
    "executionInfo": {
     "elapsed": 308,
     "status": "ok",
     "timestamp": 1732629606514,
     "user": {
      "displayName": "Sümeyye Meryem",
      "userId": "04766981645474141012"
     },
     "user_tz": -180
    },
    "id": "Eas9qmLFxRLs"
   },
   "outputs": [
    {
     "name": "stderr",
     "output_type": "stream",
     "text": [
      "c:\\Users\\Yusuf\\AppData\\Local\\Programs\\Python\\Python312\\Lib\\site-packages\\torchvision\\models\\_utils.py:208: UserWarning: The parameter 'pretrained' is deprecated since 0.13 and may be removed in the future, please use 'weights' instead.\n",
      "  warnings.warn(\n",
      "c:\\Users\\Yusuf\\AppData\\Local\\Programs\\Python\\Python312\\Lib\\site-packages\\torchvision\\models\\_utils.py:223: UserWarning: Arguments other than a weight enum or `None` for 'weights' are deprecated since 0.13 and may be removed in the future. The current behavior is equivalent to passing `weights=MobileNet_V2_Weights.IMAGENET1K_V1`. You can also use `weights=MobileNet_V2_Weights.DEFAULT` to get the most up-to-date weights.\n",
      "  warnings.warn(msg)\n",
      "Downloading: \"https://download.pytorch.org/models/mobilenet_v2-b0353104.pth\" to C:\\Users\\Yusuf/.cache\\torch\\hub\\checkpoints\\mobilenet_v2-b0353104.pth\n",
      "100.0%\n"
     ]
    },
    {
     "name": "stdout",
     "output_type": "stream",
     "text": [
      "MobileNetV2(\n",
      "  (features): Sequential(\n",
      "    (0): Conv2dNormActivation(\n",
      "      (0): Conv2d(3, 32, kernel_size=(3, 3), stride=(2, 2), padding=(1, 1), bias=False)\n",
      "      (1): BatchNorm2d(32, eps=1e-05, momentum=0.1, affine=True, track_running_stats=True)\n",
      "      (2): ReLU6(inplace=True)\n",
      "    )\n",
      "    (1): InvertedResidual(\n",
      "      (conv): Sequential(\n",
      "        (0): Conv2dNormActivation(\n",
      "          (0): Conv2d(32, 32, kernel_size=(3, 3), stride=(1, 1), padding=(1, 1), groups=32, bias=False)\n",
      "          (1): BatchNorm2d(32, eps=1e-05, momentum=0.1, affine=True, track_running_stats=True)\n",
      "          (2): ReLU6(inplace=True)\n",
      "        )\n",
      "        (1): Conv2d(32, 16, kernel_size=(1, 1), stride=(1, 1), bias=False)\n",
      "        (2): BatchNorm2d(16, eps=1e-05, momentum=0.1, affine=True, track_running_stats=True)\n",
      "      )\n",
      "    )\n",
      "    (2): InvertedResidual(\n",
      "      (conv): Sequential(\n",
      "        (0): Conv2dNormActivation(\n",
      "          (0): Conv2d(16, 96, kernel_size=(1, 1), stride=(1, 1), bias=False)\n",
      "          (1): BatchNorm2d(96, eps=1e-05, momentum=0.1, affine=True, track_running_stats=True)\n",
      "          (2): ReLU6(inplace=True)\n",
      "        )\n",
      "        (1): Conv2dNormActivation(\n",
      "          (0): Conv2d(96, 96, kernel_size=(3, 3), stride=(2, 2), padding=(1, 1), groups=96, bias=False)\n",
      "          (1): BatchNorm2d(96, eps=1e-05, momentum=0.1, affine=True, track_running_stats=True)\n",
      "          (2): ReLU6(inplace=True)\n",
      "        )\n",
      "        (2): Conv2d(96, 24, kernel_size=(1, 1), stride=(1, 1), bias=False)\n",
      "        (3): BatchNorm2d(24, eps=1e-05, momentum=0.1, affine=True, track_running_stats=True)\n",
      "      )\n",
      "    )\n",
      "    (3): InvertedResidual(\n",
      "      (conv): Sequential(\n",
      "        (0): Conv2dNormActivation(\n",
      "          (0): Conv2d(24, 144, kernel_size=(1, 1), stride=(1, 1), bias=False)\n",
      "          (1): BatchNorm2d(144, eps=1e-05, momentum=0.1, affine=True, track_running_stats=True)\n",
      "          (2): ReLU6(inplace=True)\n",
      "        )\n",
      "        (1): Conv2dNormActivation(\n",
      "          (0): Conv2d(144, 144, kernel_size=(3, 3), stride=(1, 1), padding=(1, 1), groups=144, bias=False)\n",
      "          (1): BatchNorm2d(144, eps=1e-05, momentum=0.1, affine=True, track_running_stats=True)\n",
      "          (2): ReLU6(inplace=True)\n",
      "        )\n",
      "        (2): Conv2d(144, 24, kernel_size=(1, 1), stride=(1, 1), bias=False)\n",
      "        (3): BatchNorm2d(24, eps=1e-05, momentum=0.1, affine=True, track_running_stats=True)\n",
      "      )\n",
      "    )\n",
      "    (4): InvertedResidual(\n",
      "      (conv): Sequential(\n",
      "        (0): Conv2dNormActivation(\n",
      "          (0): Conv2d(24, 144, kernel_size=(1, 1), stride=(1, 1), bias=False)\n",
      "          (1): BatchNorm2d(144, eps=1e-05, momentum=0.1, affine=True, track_running_stats=True)\n",
      "          (2): ReLU6(inplace=True)\n",
      "        )\n",
      "        (1): Conv2dNormActivation(\n",
      "          (0): Conv2d(144, 144, kernel_size=(3, 3), stride=(2, 2), padding=(1, 1), groups=144, bias=False)\n",
      "          (1): BatchNorm2d(144, eps=1e-05, momentum=0.1, affine=True, track_running_stats=True)\n",
      "          (2): ReLU6(inplace=True)\n",
      "        )\n",
      "        (2): Conv2d(144, 32, kernel_size=(1, 1), stride=(1, 1), bias=False)\n",
      "        (3): BatchNorm2d(32, eps=1e-05, momentum=0.1, affine=True, track_running_stats=True)\n",
      "      )\n",
      "    )\n",
      "    (5): InvertedResidual(\n",
      "      (conv): Sequential(\n",
      "        (0): Conv2dNormActivation(\n",
      "          (0): Conv2d(32, 192, kernel_size=(1, 1), stride=(1, 1), bias=False)\n",
      "          (1): BatchNorm2d(192, eps=1e-05, momentum=0.1, affine=True, track_running_stats=True)\n",
      "          (2): ReLU6(inplace=True)\n",
      "        )\n",
      "        (1): Conv2dNormActivation(\n",
      "          (0): Conv2d(192, 192, kernel_size=(3, 3), stride=(1, 1), padding=(1, 1), groups=192, bias=False)\n",
      "          (1): BatchNorm2d(192, eps=1e-05, momentum=0.1, affine=True, track_running_stats=True)\n",
      "          (2): ReLU6(inplace=True)\n",
      "        )\n",
      "        (2): Conv2d(192, 32, kernel_size=(1, 1), stride=(1, 1), bias=False)\n",
      "        (3): BatchNorm2d(32, eps=1e-05, momentum=0.1, affine=True, track_running_stats=True)\n",
      "      )\n",
      "    )\n",
      "    (6): InvertedResidual(\n",
      "      (conv): Sequential(\n",
      "        (0): Conv2dNormActivation(\n",
      "          (0): Conv2d(32, 192, kernel_size=(1, 1), stride=(1, 1), bias=False)\n",
      "          (1): BatchNorm2d(192, eps=1e-05, momentum=0.1, affine=True, track_running_stats=True)\n",
      "          (2): ReLU6(inplace=True)\n",
      "        )\n",
      "        (1): Conv2dNormActivation(\n",
      "          (0): Conv2d(192, 192, kernel_size=(3, 3), stride=(1, 1), padding=(1, 1), groups=192, bias=False)\n",
      "          (1): BatchNorm2d(192, eps=1e-05, momentum=0.1, affine=True, track_running_stats=True)\n",
      "          (2): ReLU6(inplace=True)\n",
      "        )\n",
      "        (2): Conv2d(192, 32, kernel_size=(1, 1), stride=(1, 1), bias=False)\n",
      "        (3): BatchNorm2d(32, eps=1e-05, momentum=0.1, affine=True, track_running_stats=True)\n",
      "      )\n",
      "    )\n",
      "    (7): InvertedResidual(\n",
      "      (conv): Sequential(\n",
      "        (0): Conv2dNormActivation(\n",
      "          (0): Conv2d(32, 192, kernel_size=(1, 1), stride=(1, 1), bias=False)\n",
      "          (1): BatchNorm2d(192, eps=1e-05, momentum=0.1, affine=True, track_running_stats=True)\n",
      "          (2): ReLU6(inplace=True)\n",
      "        )\n",
      "        (1): Conv2dNormActivation(\n",
      "          (0): Conv2d(192, 192, kernel_size=(3, 3), stride=(2, 2), padding=(1, 1), groups=192, bias=False)\n",
      "          (1): BatchNorm2d(192, eps=1e-05, momentum=0.1, affine=True, track_running_stats=True)\n",
      "          (2): ReLU6(inplace=True)\n",
      "        )\n",
      "        (2): Conv2d(192, 64, kernel_size=(1, 1), stride=(1, 1), bias=False)\n",
      "        (3): BatchNorm2d(64, eps=1e-05, momentum=0.1, affine=True, track_running_stats=True)\n",
      "      )\n",
      "    )\n",
      "    (8): InvertedResidual(\n",
      "      (conv): Sequential(\n",
      "        (0): Conv2dNormActivation(\n",
      "          (0): Conv2d(64, 384, kernel_size=(1, 1), stride=(1, 1), bias=False)\n",
      "          (1): BatchNorm2d(384, eps=1e-05, momentum=0.1, affine=True, track_running_stats=True)\n",
      "          (2): ReLU6(inplace=True)\n",
      "        )\n",
      "        (1): Conv2dNormActivation(\n",
      "          (0): Conv2d(384, 384, kernel_size=(3, 3), stride=(1, 1), padding=(1, 1), groups=384, bias=False)\n",
      "          (1): BatchNorm2d(384, eps=1e-05, momentum=0.1, affine=True, track_running_stats=True)\n",
      "          (2): ReLU6(inplace=True)\n",
      "        )\n",
      "        (2): Conv2d(384, 64, kernel_size=(1, 1), stride=(1, 1), bias=False)\n",
      "        (3): BatchNorm2d(64, eps=1e-05, momentum=0.1, affine=True, track_running_stats=True)\n",
      "      )\n",
      "    )\n",
      "    (9): InvertedResidual(\n",
      "      (conv): Sequential(\n",
      "        (0): Conv2dNormActivation(\n",
      "          (0): Conv2d(64, 384, kernel_size=(1, 1), stride=(1, 1), bias=False)\n",
      "          (1): BatchNorm2d(384, eps=1e-05, momentum=0.1, affine=True, track_running_stats=True)\n",
      "          (2): ReLU6(inplace=True)\n",
      "        )\n",
      "        (1): Conv2dNormActivation(\n",
      "          (0): Conv2d(384, 384, kernel_size=(3, 3), stride=(1, 1), padding=(1, 1), groups=384, bias=False)\n",
      "          (1): BatchNorm2d(384, eps=1e-05, momentum=0.1, affine=True, track_running_stats=True)\n",
      "          (2): ReLU6(inplace=True)\n",
      "        )\n",
      "        (2): Conv2d(384, 64, kernel_size=(1, 1), stride=(1, 1), bias=False)\n",
      "        (3): BatchNorm2d(64, eps=1e-05, momentum=0.1, affine=True, track_running_stats=True)\n",
      "      )\n",
      "    )\n",
      "    (10): InvertedResidual(\n",
      "      (conv): Sequential(\n",
      "        (0): Conv2dNormActivation(\n",
      "          (0): Conv2d(64, 384, kernel_size=(1, 1), stride=(1, 1), bias=False)\n",
      "          (1): BatchNorm2d(384, eps=1e-05, momentum=0.1, affine=True, track_running_stats=True)\n",
      "          (2): ReLU6(inplace=True)\n",
      "        )\n",
      "        (1): Conv2dNormActivation(\n",
      "          (0): Conv2d(384, 384, kernel_size=(3, 3), stride=(1, 1), padding=(1, 1), groups=384, bias=False)\n",
      "          (1): BatchNorm2d(384, eps=1e-05, momentum=0.1, affine=True, track_running_stats=True)\n",
      "          (2): ReLU6(inplace=True)\n",
      "        )\n",
      "        (2): Conv2d(384, 64, kernel_size=(1, 1), stride=(1, 1), bias=False)\n",
      "        (3): BatchNorm2d(64, eps=1e-05, momentum=0.1, affine=True, track_running_stats=True)\n",
      "      )\n",
      "    )\n",
      "    (11): InvertedResidual(\n",
      "      (conv): Sequential(\n",
      "        (0): Conv2dNormActivation(\n",
      "          (0): Conv2d(64, 384, kernel_size=(1, 1), stride=(1, 1), bias=False)\n",
      "          (1): BatchNorm2d(384, eps=1e-05, momentum=0.1, affine=True, track_running_stats=True)\n",
      "          (2): ReLU6(inplace=True)\n",
      "        )\n",
      "        (1): Conv2dNormActivation(\n",
      "          (0): Conv2d(384, 384, kernel_size=(3, 3), stride=(1, 1), padding=(1, 1), groups=384, bias=False)\n",
      "          (1): BatchNorm2d(384, eps=1e-05, momentum=0.1, affine=True, track_running_stats=True)\n",
      "          (2): ReLU6(inplace=True)\n",
      "        )\n",
      "        (2): Conv2d(384, 96, kernel_size=(1, 1), stride=(1, 1), bias=False)\n",
      "        (3): BatchNorm2d(96, eps=1e-05, momentum=0.1, affine=True, track_running_stats=True)\n",
      "      )\n",
      "    )\n",
      "    (12): InvertedResidual(\n",
      "      (conv): Sequential(\n",
      "        (0): Conv2dNormActivation(\n",
      "          (0): Conv2d(96, 576, kernel_size=(1, 1), stride=(1, 1), bias=False)\n",
      "          (1): BatchNorm2d(576, eps=1e-05, momentum=0.1, affine=True, track_running_stats=True)\n",
      "          (2): ReLU6(inplace=True)\n",
      "        )\n",
      "        (1): Conv2dNormActivation(\n",
      "          (0): Conv2d(576, 576, kernel_size=(3, 3), stride=(1, 1), padding=(1, 1), groups=576, bias=False)\n",
      "          (1): BatchNorm2d(576, eps=1e-05, momentum=0.1, affine=True, track_running_stats=True)\n",
      "          (2): ReLU6(inplace=True)\n",
      "        )\n",
      "        (2): Conv2d(576, 96, kernel_size=(1, 1), stride=(1, 1), bias=False)\n",
      "        (3): BatchNorm2d(96, eps=1e-05, momentum=0.1, affine=True, track_running_stats=True)\n",
      "      )\n",
      "    )\n",
      "    (13): InvertedResidual(\n",
      "      (conv): Sequential(\n",
      "        (0): Conv2dNormActivation(\n",
      "          (0): Conv2d(96, 576, kernel_size=(1, 1), stride=(1, 1), bias=False)\n",
      "          (1): BatchNorm2d(576, eps=1e-05, momentum=0.1, affine=True, track_running_stats=True)\n",
      "          (2): ReLU6(inplace=True)\n",
      "        )\n",
      "        (1): Conv2dNormActivation(\n",
      "          (0): Conv2d(576, 576, kernel_size=(3, 3), stride=(1, 1), padding=(1, 1), groups=576, bias=False)\n",
      "          (1): BatchNorm2d(576, eps=1e-05, momentum=0.1, affine=True, track_running_stats=True)\n",
      "          (2): ReLU6(inplace=True)\n",
      "        )\n",
      "        (2): Conv2d(576, 96, kernel_size=(1, 1), stride=(1, 1), bias=False)\n",
      "        (3): BatchNorm2d(96, eps=1e-05, momentum=0.1, affine=True, track_running_stats=True)\n",
      "      )\n",
      "    )\n",
      "    (14): InvertedResidual(\n",
      "      (conv): Sequential(\n",
      "        (0): Conv2dNormActivation(\n",
      "          (0): Conv2d(96, 576, kernel_size=(1, 1), stride=(1, 1), bias=False)\n",
      "          (1): BatchNorm2d(576, eps=1e-05, momentum=0.1, affine=True, track_running_stats=True)\n",
      "          (2): ReLU6(inplace=True)\n",
      "        )\n",
      "        (1): Conv2dNormActivation(\n",
      "          (0): Conv2d(576, 576, kernel_size=(3, 3), stride=(2, 2), padding=(1, 1), groups=576, bias=False)\n",
      "          (1): BatchNorm2d(576, eps=1e-05, momentum=0.1, affine=True, track_running_stats=True)\n",
      "          (2): ReLU6(inplace=True)\n",
      "        )\n",
      "        (2): Conv2d(576, 160, kernel_size=(1, 1), stride=(1, 1), bias=False)\n",
      "        (3): BatchNorm2d(160, eps=1e-05, momentum=0.1, affine=True, track_running_stats=True)\n",
      "      )\n",
      "    )\n",
      "    (15): InvertedResidual(\n",
      "      (conv): Sequential(\n",
      "        (0): Conv2dNormActivation(\n",
      "          (0): Conv2d(160, 960, kernel_size=(1, 1), stride=(1, 1), bias=False)\n",
      "          (1): BatchNorm2d(960, eps=1e-05, momentum=0.1, affine=True, track_running_stats=True)\n",
      "          (2): ReLU6(inplace=True)\n",
      "        )\n",
      "        (1): Conv2dNormActivation(\n",
      "          (0): Conv2d(960, 960, kernel_size=(3, 3), stride=(1, 1), padding=(1, 1), groups=960, bias=False)\n",
      "          (1): BatchNorm2d(960, eps=1e-05, momentum=0.1, affine=True, track_running_stats=True)\n",
      "          (2): ReLU6(inplace=True)\n",
      "        )\n",
      "        (2): Conv2d(960, 160, kernel_size=(1, 1), stride=(1, 1), bias=False)\n",
      "        (3): BatchNorm2d(160, eps=1e-05, momentum=0.1, affine=True, track_running_stats=True)\n",
      "      )\n",
      "    )\n",
      "    (16): InvertedResidual(\n",
      "      (conv): Sequential(\n",
      "        (0): Conv2dNormActivation(\n",
      "          (0): Conv2d(160, 960, kernel_size=(1, 1), stride=(1, 1), bias=False)\n",
      "          (1): BatchNorm2d(960, eps=1e-05, momentum=0.1, affine=True, track_running_stats=True)\n",
      "          (2): ReLU6(inplace=True)\n",
      "        )\n",
      "        (1): Conv2dNormActivation(\n",
      "          (0): Conv2d(960, 960, kernel_size=(3, 3), stride=(1, 1), padding=(1, 1), groups=960, bias=False)\n",
      "          (1): BatchNorm2d(960, eps=1e-05, momentum=0.1, affine=True, track_running_stats=True)\n",
      "          (2): ReLU6(inplace=True)\n",
      "        )\n",
      "        (2): Conv2d(960, 160, kernel_size=(1, 1), stride=(1, 1), bias=False)\n",
      "        (3): BatchNorm2d(160, eps=1e-05, momentum=0.1, affine=True, track_running_stats=True)\n",
      "      )\n",
      "    )\n",
      "    (17): InvertedResidual(\n",
      "      (conv): Sequential(\n",
      "        (0): Conv2dNormActivation(\n",
      "          (0): Conv2d(160, 960, kernel_size=(1, 1), stride=(1, 1), bias=False)\n",
      "          (1): BatchNorm2d(960, eps=1e-05, momentum=0.1, affine=True, track_running_stats=True)\n",
      "          (2): ReLU6(inplace=True)\n",
      "        )\n",
      "        (1): Conv2dNormActivation(\n",
      "          (0): Conv2d(960, 960, kernel_size=(3, 3), stride=(1, 1), padding=(1, 1), groups=960, bias=False)\n",
      "          (1): BatchNorm2d(960, eps=1e-05, momentum=0.1, affine=True, track_running_stats=True)\n",
      "          (2): ReLU6(inplace=True)\n",
      "        )\n",
      "        (2): Conv2d(960, 320, kernel_size=(1, 1), stride=(1, 1), bias=False)\n",
      "        (3): BatchNorm2d(320, eps=1e-05, momentum=0.1, affine=True, track_running_stats=True)\n",
      "      )\n",
      "    )\n",
      "    (18): Conv2dNormActivation(\n",
      "      (0): Conv2d(320, 1280, kernel_size=(1, 1), stride=(1, 1), bias=False)\n",
      "      (1): BatchNorm2d(1280, eps=1e-05, momentum=0.1, affine=True, track_running_stats=True)\n",
      "      (2): ReLU6(inplace=True)\n",
      "    )\n",
      "  )\n",
      "  (classifier): Sequential(\n",
      "    (0): Dropout(p=0.2, inplace=False)\n",
      "    (1): Linear(in_features=1280, out_features=1000, bias=True)\n",
      "  )\n",
      ")\n"
     ]
    }
   ],
   "source": [
    "## Utilize torchvision library to load the pre-trained MobileNetV2 model\n",
    "## Ensure that the model's architecture matches MobileNetV2, by checking the model summary.\n",
    "\n",
    "import torchvision.models as models\n",
    "\n",
    "mobilenet_v2 = models.mobilenet_v2(pretrained=True)\n",
    "print(mobilenet_v2)"
   ]
  },
  {
   "cell_type": "markdown",
   "metadata": {
    "id": "RkIZHLEXxcFu"
   },
   "source": [
    "### 2.8 Modify the MobileNet model for transfer learning (10 points)"
   ]
  },
  {
   "cell_type": "code",
   "execution_count": null,
   "metadata": {
    "id": "tFW5CF46xcFv"
   },
   "outputs": [
    {
     "name": "stdout",
     "output_type": "stream",
     "text": [
      "Epoch [1/30], Loss: 0.9777\n",
      "Epoch [2/30], Loss: 0.3532\n",
      "Epoch [3/30], Loss: 0.2609\n",
      "Epoch [4/30], Loss: 0.2147\n",
      "Epoch [5/30], Loss: 0.1869\n",
      "Epoch [6/30], Loss: 0.1632\n",
      "Epoch [7/30], Loss: 0.1557\n",
      "Epoch [8/30], Loss: 0.1459\n",
      "Epoch [9/30], Loss: 0.1276\n",
      "Epoch [10/30], Loss: 0.1203\n",
      "Epoch [11/30], Loss: 0.1087\n",
      "Epoch [12/30], Loss: 0.1033\n",
      "Epoch [13/30], Loss: 0.1019\n",
      "Epoch [14/30], Loss: 0.0919\n",
      "Epoch [15/30], Loss: 0.0905\n",
      "Epoch [16/30], Loss: 0.0837\n",
      "Epoch [17/30], Loss: 0.0873\n",
      "Epoch [18/30], Loss: 0.0866\n",
      "Epoch [19/30], Loss: 0.0740\n",
      "Epoch [20/30], Loss: 0.0749\n",
      "Epoch [21/30], Loss: 0.0714\n",
      "Epoch [22/30], Loss: 0.0689\n",
      "Epoch [23/30], Loss: 0.0670\n",
      "Epoch [24/30], Loss: 0.0629\n",
      "Epoch [25/30], Loss: 0.0646\n",
      "Epoch [26/30], Loss: 0.0590\n",
      "Epoch [27/30], Loss: 0.0609\n",
      "Epoch [28/30], Loss: 0.0590\n",
      "Epoch [29/30], Loss: 0.0580\n",
      "Epoch [30/30], Loss: 0.0597\n"
     ]
    }
   ],
   "source": [
    "## Freeze all layers of the MobileNet model.\n",
    "## Replace the final fully connected layer with a new FC layer matching the number of classes\n",
    "## Unfreeze the final FC layer\n",
    "## Define appropriate loss function and optimizer for training\n",
    "## Train the modified MobileNet model on the animal-10 image dataset. (base model)\n",
    "\n",
    "# Loading MobileNetV2 model\n",
    "mobilenet_v2 = models.mobilenet_v2(pretrained=True)\n",
    "\n",
    "# Freeze all layers\n",
    "for param in mobilenet_v2.parameters():\n",
    "    param.requires_grad = False\n",
    "\n",
    "num_classes = 10,\n",
    "\n",
    "mobilenet_v2.classifier[1] = nn.Linear(mobilenet_v2.classifier[1].in_features, num_classes)\n",
    "\n",
    "# Unfreeze the final FC layer\n",
    "for param in mobilenet_v2.classifier[1].parameters():\n",
    "    param.requires_grad = True\n",
    "\n",
    "mobilenet_v2 = mobilenet_v2.to(device)\n",
    "\n",
    "criterion = nn.CrossEntropyLoss()\n",
    "optimizer = optim.Adam(mobilenet_v2.classifier[1].parameters(), lr=0.001)\n",
    "\n",
    "lossOfMobileNet = trainDefault(mobilenet_v2, train_loader, criterion, optimizer, num_epochs=30, device=device)"
   ]
  },
  {
   "cell_type": "code",
   "execution_count": null,
   "metadata": {
    "id": "8Mf3sXu7ygD1"
   },
   "outputs": [
    {
     "name": "stdout",
     "output_type": "stream",
     "text": [
      "Epoch [1/30], Loss: 0.6406\n",
      "Epoch [2/30], Loss: 0.2538\n",
      "Epoch [3/30], Loss: 0.1797\n",
      "Epoch [4/30], Loss: 0.1573\n",
      "Epoch [5/30], Loss: 0.1283\n",
      "Epoch [6/30], Loss: 0.1109\n",
      "Epoch [7/30], Loss: 0.1677\n",
      "Epoch [8/30], Loss: 0.0827\n",
      "Epoch [9/30], Loss: 0.0579\n",
      "Epoch [10/30], Loss: 0.0608\n",
      "Epoch [11/30], Loss: 0.0589\n",
      "Epoch [12/30], Loss: 0.0705\n",
      "Epoch [13/30], Loss: 0.0797\n",
      "Epoch [14/30], Loss: 0.0722\n",
      "Epoch [15/30], Loss: 0.0808\n",
      "Epoch [16/30], Loss: 0.0561\n",
      "Epoch [17/30], Loss: 0.0655\n",
      "Epoch [18/30], Loss: 0.0664\n",
      "Epoch [19/30], Loss: 0.0571\n",
      "Epoch [20/30], Loss: 0.0344\n",
      "Epoch [21/30], Loss: 0.0213\n",
      "Epoch [22/30], Loss: 0.0227\n",
      "Epoch [23/30], Loss: 0.0376\n",
      "Epoch [24/30], Loss: 0.0479\n",
      "Epoch [25/30], Loss: 0.0731\n",
      "Epoch [26/30], Loss: 0.1474\n",
      "Epoch [27/30], Loss: 0.1022\n",
      "Epoch [28/30], Loss: 0.0527\n",
      "Epoch [29/30], Loss: 0.0349\n",
      "Epoch [30/30], Loss: 0.0331\n"
     ]
    }
   ],
   "source": [
    "## Define another MobileNet model\n",
    "## Replace the final fully connected layer with a new FC layer matching the number of classes proceed with training. (second model)\n",
    "\n",
    "# Loading MobileNetV2 model\n",
    "mobilenet_v2_2 = models.mobilenet_v2(pretrained=True)\n",
    "\n",
    "\n",
    "num_classes = 10  # Adjusted this for the number of classes in Animal-10\n",
    "\n",
    "mobilenet_v2_2.classifier[1] = nn.Linear(mobilenet_v2_2.classifier[1].in_features, num_classes)\n",
    "\n",
    "mobilenet_v2_2 = mobilenet_v2_2.to(device)\n",
    "\n",
    "criterion = nn.CrossEntropyLoss()\n",
    "optimizer = optim.Adam(mobilenet_v2_2.parameters(), lr=0.001)\n",
    "\n",
    "lossOfMobileNet2 = trainDefault(mobilenet_v2_2, train_loader, criterion, optimizer, num_epochs=30, device=device)\n"
   ]
  },
  {
   "cell_type": "code",
   "execution_count": null,
   "metadata": {
    "id": "RUmvQDjZxcFx"
   },
   "outputs": [
    {
     "name": "stdout",
     "output_type": "stream",
     "text": [
      "Model: MobileNetV2, Accuracy: 0.9467\n",
      "Model: MobileNetV2, Accuracy: 0.8280\n"
     ]
    }
   ],
   "source": [
    "## Define appropriate loss function and optimizer for training\n",
    "## Iterate over the training dataset in mini-batches, compute the loss, and update model parameters.\n",
    "## Monitor the training process and evaluate all model's performance on the validation set periodically.\n",
    "## Visualize the accuracy and loss changes of the models across training and validation datasets.\n",
    "\n",
    "# Evaluate the base MobileNetV2 model\n",
    "accuracy_base_mobile = evaluate_model(mobilenet_v2, val_loader, device)\n",
    "\n",
    "# Evaluate the second MobileNetV2 model\n",
    "accuracy_2_mobile = evaluate_model(mobilenet_v2_2, val_loader, device)\n",
    "\n",
    "if accuracy_base_mobile > accuracy_2_mobile:\n",
    "    best_model_mobile = mobilenet_v2\n",
    "else:\n",
    "    best_model_mobile = mobilenet_v2_2\n",
    "\n"
   ]
  },
  {
   "cell_type": "markdown",
   "metadata": {
    "id": "SBEZnnsXxcFy"
   },
   "source": [
    "Conduct a comparative analysis among these two models. Comment on their performance and select your best model with respect to validation accuracy.\n",
    "* Which model performed better and why do you think it performed better?  \n",
    "* Comment on the practical considerations among these models also."
   ]
  },
  {
   "cell_type": "markdown",
   "metadata": {},
   "source": [
    "## Comparative Analysis of MobileNetV2 Models\n",
    "\n",
    "### **Model Performance**\n",
    "- **Model 1 (Frozen Layers)**: Achieved the highest accuracy of **94.67%** on the validation set.\n",
    "- **Model 2 (Unfrozen Layers)**: Performed slightly worse with an accuracy of **82.80%**, which is still decent but not as high as Model 1.\n",
    "\n",
    "### **Why Model 1 Performed Better**\n",
    "- **Model 1 (Freezing All Layers Except Final FC Layer)**: This approach focuses on fine-tuning only the last layer, allowing the pre-trained convolutional layers to retain general features learned from the large ImageNet dataset. By keeping the convolutional layers frozen, the model effectively uses these pre-learned features to adapt to the new task. This leads to higher generalization and a better ability to perform well on the new dataset.\n",
    "  \n",
    "- **Model 2 (Unfreezing All Layers)**: While unfreezing all layers allows the model to learn more specific features, it can also lead to overfitting, especially when the dataset is smaller. This may have caused the performance to slightly decrease compared to Model 1. Additionally, training the entire model takes longer and may require more careful hyperparameter tuning.\n",
    "\n",
    "### **Practical Considerations**\n",
    "- **Model 1**: Best for quick training and high accuracy when dataset quality is sufficient. It is a more efficient solution when working with limited data and computational resources. It provides a good balance between leveraging pre-trained features and minimizing the risk of overfitting. Also, it trained faster since only the final layer was updated.\n",
    "  \n",
    "- **Model 2**: Suitable for cases where you want to learn more task-specific features, especially if you have more data and computational resources. However, unfreezing all layers may require careful tuning to avoid overfitting and to ensure the model converges properly. It may also require more epochs and training time.\n",
    "\n",
    "### **Conclusion**\n",
    "- **Best Model**: **Model 1 (Frozen Layers)** performed the best with a validation accuracy of 94.67%. Freezing all layers except the final fully connected layer allowed the model to retain general features from the pre-trained MobileNetV2, leading to better generalization and accuracy on the Animal-10 dataset.\n"
   ]
  },
  {
   "cell_type": "markdown",
   "metadata": {
    "id": "Jnv5mIdtyr71"
   },
   "source": [
    "### 2.9 Evaluate the fine-tuned MobileNet model (7 points)"
   ]
  },
  {
   "cell_type": "code",
   "execution_count": null,
   "metadata": {
    "id": "FIs86Z-vyr72"
   },
   "outputs": [
    {
     "name": "stdout",
     "output_type": "stream",
     "text": [
      "Base MobileNetV2 Model:\n",
      "              precision    recall  f1-score   support\n",
      "\n",
      "        cane       0.95      0.89      0.92        84\n",
      "     cavallo       0.96      0.94      0.95        72\n",
      "    elefante       0.99      0.99      0.99        70\n",
      "    farfalla       1.00      0.96      0.98        83\n",
      "     gallina       0.96      0.97      0.97        76\n",
      "       gatto       0.92      0.97      0.95        75\n",
      "       mucca       0.89      0.86      0.87        72\n",
      "      pecora       0.88      0.97      0.92        62\n",
      "       ragno       0.99      1.00      0.99        82\n",
      "  scoiattolo       0.97      0.96      0.97        74\n",
      "\n",
      "    accuracy                           0.95       750\n",
      "   macro avg       0.95      0.95      0.95       750\n",
      "weighted avg       0.95      0.95      0.95       750\n",
      "\n",
      "Second MobileNetV2 Model:\n",
      "              precision    recall  f1-score   support\n",
      "\n",
      "        cane       0.82      0.60      0.69        84\n",
      "     cavallo       0.85      0.83      0.84        72\n",
      "    elefante       0.89      0.90      0.89        70\n",
      "    farfalla       0.87      0.94      0.90        83\n",
      "     gallina       0.92      0.88      0.90        76\n",
      "       gatto       0.80      0.84      0.82        75\n",
      "       mucca       0.79      0.82      0.80        72\n",
      "      pecora       0.75      0.89      0.81        62\n",
      "       ragno       0.85      0.87      0.86        82\n",
      "  scoiattolo       0.89      0.88      0.88        74\n",
      "\n",
      "    accuracy                           0.84       750\n",
      "   macro avg       0.84      0.84      0.84       750\n",
      "weighted avg       0.84      0.84      0.84       750\n",
      "\n"
     ]
    },
    {
     "data": {
      "image/png": "[encoded data removed]",
      "text/plain": [
       "<Figure size 1000x1000 with 2 Axes>"
      ]
     },
     "metadata": {},
     "output_type": "display_data"
    }
   ],
   "source": [
    "## Test the best model on the test set to evaluate its performance.\n",
    "## Compute metrics such as accuracy, precision, recall, and F1-score to assess classification performance.\n",
    "## Visualize confusion matrix to understand the model's behavior across different classes\n",
    "## Comment on the results\n",
    "\n",
    "# Test the base MobileNetV2 model\n",
    "accuracy_best, y_true_best, y_pred_best = test_model(test_set, mobilenet_v2, device)\n",
    "\n",
    "print(\"Best MobileNetV2 Model:\")\n",
    "print(classification_report(y_true_best, y_pred_best, target_names=dataset.classes))\n",
    "\n",
    "plot_confusion_matrix(y_true_best, y_pred_best, dataset.classes)\n"
   ]
  },
  {
   "cell_type": "code",
   "execution_count": 38,
   "metadata": {
    "id": "vrTY0X3EzIef"
   },
   "outputs": [],
   "source": [
    "## Compare the best fine-tuned MobileNet model performance with the best CNN model implemented from scratch\n",
    "## Compare the best fine-tuned MobileNet model performance with the best ResNet18 model implemented from scratch"
   ]
  },
  {
   "cell_type": "markdown",
   "metadata": {
    "id": "mqxqlRDozR7q"
   },
   "source": [
    "### 2.10 Kaggle Test Result (5 points)\n",
    "* Put your Kaggle test result for your MobileNet pretrained model here and comment on it.\n",
    "* You will get a score between 0-1 and your percentage (e.g. 0.1, 0.3, 0.6, 0.85) of accuracy will be multiplied by the highest possible score (5 points) for this part. That will be your grading score."
   ]
  },
  {
   "cell_type": "markdown",
   "metadata": {
    "id": "7N7lt6OG1cz7"
   },
   "source": [
    "# Transfer Learning vs. Training from Scratch\n",
    "\n",
    "## Transfer Learning\n",
    "\n",
    "**Advantages**:\n",
    "- **Saves time**: Pre-trained models have already learned useful features.\n",
    "- **Works with small datasets**: Great when you don’t have a lot of data.\n",
    "- **Better generalization**: Models are good at adapting to various tasks.\n",
    "\n",
    "**Disadvantages**:\n",
    "- **Can overfit**: Might not perform well if your data is very different.\n",
    "- **Limited flexibility**: May not be fully tailored to your task.\n",
    "\n",
    "## Training from Scratch\n",
    "\n",
    "**Advantages**:\n",
    "- **Customizable**: Full control over the model design.\n",
    "- **Tailored to your data**: Learns from your specific dataset.\n",
    "\n",
    "**Disadvantages**:\n",
    "- **Time-consuming**: Takes longer to train.\n",
    "- **Needs a lot of data**: Small datasets lead to overfitting.\n",
    "- **Resource-intensive**: Requires more computational power.\n",
    "\n",
    "---\n",
    "\n",
    "# Comparing the Models\n",
    "\n",
    "| **Model**          | **Accuracy** | **Precision** | **Recall** | **F1-Score** |\n",
    "|--------------------|--------------|---------------|------------|--------------|\n",
    "| **CNN from Scratch**| 46.13%       | 0.46          | 0.46       | 0.46         |\n",
    "| **ResNet18**        | 94.00%       | 0.95          | 0.94       | 0.94         |\n",
    "| **MobileNet**       | 95.00%       | 0.95          | 0.94       | 0.95         |\n",
    "\n",
    "---\n",
    "\n",
    "# Practical Considerations\n",
    "\n",
    "- **Use Transfer Learning**:\n",
    "  - If you have a small dataset.\n",
    "  - When you need faster results or have limited resources.\n",
    "  - If your task is similar to the data the model was trained on.\n",
    "\n",
    "- **Train from Scratch**:\n",
    "  - If you have a large, specific dataset.\n",
    "  - When you need full control over the model design.\n",
    "\n",
    "- **Choosing a Model**:\n",
    "  - **ResNet18**: High accuracy, good for fine-tuning.\n",
    "  - **MobileNet**: Efficient, good for mobile or resource-limited devices.\n",
    "  - **CNN from Scratch**: Custom, but requires a lot of data and time.\n",
    "\n",
    "\n"
   ]
  }
 ],
 "metadata": {
  "colab": {
   "collapsed_sections": [
    "9-LA2-Ww8RB6",
    "O6yQkfFD8RB8",
    "23njcboArttc",
    "3aW87Td98RB9",
    "Snzyw25wy2qD",
    "7AUPSGkss_xx",
    "H6P7NdYbs_xx",
    "biAtQZdWs_xy",
    "998AhkSqxRLr",
    "RkIZHLEXxcFu"
   ],
   "provenance": [
    {
     "file_id": "1i1_5Hd_HXRNRrlGlksKDbCPl5DVIQ2WJ",
     "timestamp": 1713971266011
    },
    {
     "file_id": "1KRiLDX0LGWSYTkQtyAUDOqSBtbsuSrml",
     "timestamp": 1709144210895
    }
   ]
  },
  "kernelspec": {
   "display_name": "Python 3",
   "language": "python",
   "name": "python3"
  },
  "language_info": {
   "codemirror_mode": {
    "name": "ipython",
    "version": 3
   },
   "file_extension": ".py",
   "mimetype": "text/x-python",
   "name": "python",
   "nbconvert_exporter": "python",
   "pygments_lexer": "ipython3",
   "version": "3.12.2"
  }
 },
 "nbformat": 4,
 "nbformat_minor": 0
}
